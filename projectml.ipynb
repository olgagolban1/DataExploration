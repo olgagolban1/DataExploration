{
 "cells": [
  {
   "cell_type": "markdown",
   "id": "3f20d5bb",
   "metadata": {},
   "source": [
    "# Data Exploration Project - Datenset Valentinstag"
   ]
  },
  {
   "cell_type": "markdown",
   "id": "563f97b4",
   "metadata": {},
   "source": [
    "### Beschreibung des Datensets\n",
    "\n",
    "Der Datensatz ``Valentine's Day Consumer Data`` besteht aus drei csv-Dateien, die Verbraucherverhalten und Ausgabegewohnheiten zum Valentinstag in den USA über ein Jahrzehnt hinweg abbilden. Die Daten stammen von der National Retail Federation (NRF) und umfassen 12 Jahre. \n",
    "\n",
    "Das Projekt wurde wegen seiner Relevanz für das Verbraucherverhalten am Valentinstag ausgewählt. Ziel ist es, mit Hilfe von Vorhersagemodellen die Preisentwicklung zu prognostizieren und darauf basierend gezielte Marketingstrategien zu entwickeln. Um die Genauigkeit der Vorhersagen zu optimieren, wird der beste Classifier für diesen Anwendungsfall gesucht. Beim Train-Test-Split wurden die Jahre 2021 und 2022 als Testdaten und alle anderen Jahre als Trainingsdaten festgelegt, um die Vorhersagevalidität zu verbessern.\n",
    "##### FYI:\n",
    "Zu Beginn wurde der Klassifikationsansatz verfolgt, eine Vorhersage zu treffen, ob ein bestimmtes Produkt von einer Frau oder einem Mann gekauft und verschenkt wurde. Dieser Ansatz wurde jedoch verworfen, da die Daten der ``gifts_gender.csv`` als Prozentangaben übergeben werden und die Informationen über die ANzahl der befragten Personen fehlt, um diese Werte in absolute Zahlen zu berechnen."
   ]
  },
  {
   "cell_type": "markdown",
   "id": "c456589d",
   "metadata": {},
   "source": [
    "Die benötigten Bibliotheken werden installiert und in der req.txt abgespeichert."
   ]
  },
  {
   "cell_type": "code",
   "execution_count": 1,
   "id": "c84781df",
   "metadata": {},
   "outputs": [
    {
     "name": "stdout",
     "output_type": "stream",
     "text": [
      "Requirement already satisfied: joblib==1.3.2 in /Users/olgagolban/Desktop/uni/4. Semester/Data Exploration/dataexploproject/dataexploproject/lib/python3.10/site-packages (from -r req.txt (line 1)) (1.3.2)\n",
      "Requirement already satisfied: numpy==1.26.4 in /Users/olgagolban/Desktop/uni/4. Semester/Data Exploration/dataexploproject/dataexploproject/lib/python3.10/site-packages (from -r req.txt (line 2)) (1.26.4)\n",
      "Requirement already satisfied: packaging==24.0 in /Users/olgagolban/Desktop/uni/4. Semester/Data Exploration/dataexploproject/dataexploproject/lib/python3.10/site-packages (from -r req.txt (line 3)) (24.0)\n",
      "Requirement already satisfied: pyaml==23.12.0 in /Users/olgagolban/Desktop/uni/4. Semester/Data Exploration/dataexploproject/dataexploproject/lib/python3.10/site-packages (from -r req.txt (line 4)) (23.12.0)\n",
      "Requirement already satisfied: PyYAML==6.0.1 in /Users/olgagolban/Desktop/uni/4. Semester/Data Exploration/dataexploproject/dataexploproject/lib/python3.10/site-packages (from -r req.txt (line 5)) (6.0.1)\n",
      "Requirement already satisfied: scikit-learn==1.4.1.post1 in /Users/olgagolban/Desktop/uni/4. Semester/Data Exploration/dataexploproject/dataexploproject/lib/python3.10/site-packages (from -r req.txt (line 6)) (1.4.1.post1)\n",
      "Requirement already satisfied: scikit-optimize==0.10.1 in /Users/olgagolban/Desktop/uni/4. Semester/Data Exploration/dataexploproject/dataexploproject/lib/python3.10/site-packages (from -r req.txt (line 7)) (0.10.1)\n",
      "Requirement already satisfied: scipy==1.12.0 in /Users/olgagolban/Desktop/uni/4. Semester/Data Exploration/dataexploproject/dataexploproject/lib/python3.10/site-packages (from -r req.txt (line 8)) (1.12.0)\n",
      "Requirement already satisfied: threadpoolctl==3.4.0 in /Users/olgagolban/Desktop/uni/4. Semester/Data Exploration/dataexploproject/dataexploproject/lib/python3.10/site-packages (from -r req.txt (line 9)) (3.4.0)\n"
     ]
    }
   ],
   "source": [
    "! pip install -r req.txt"
   ]
  },
  {
   "cell_type": "code",
   "execution_count": 38,
   "id": "d0dbc3dd",
   "metadata": {},
   "outputs": [],
   "source": [
    "import pandas as pd\n",
    "import plotly.subplots as sp\n",
    "import plotly.graph_objects as go\n",
    "import seaborn as sns\n",
    "import matplotlib.pyplot as pltimport \n",
    "import joblib\n",
    "import datetime\n",
    "import json\n",
    "import xgboost as xgb\n",
    "import numpy as np\n",
    "import matplotlib.pyplot as plt\n",
    "import math\n",
    "\n",
    "\n",
    "from sklearn.model_selection import train_test_split, GridSearchCV, validation_curve, learning_curve, cross_val_score\n",
    "from sklearn.ensemble import RandomForestRegressor\n",
    "from sklearn.metrics import mean_squared_error, r2_score,mean_absolute_error\n",
    "from sklearn.linear_model import LinearRegression\n",
    "from xgboost import XGBRegressor\n"
   ]
  },
  {
   "cell_type": "markdown",
   "id": "625ab993",
   "metadata": {},
   "source": [
    "### Charakterisierung des Datensets"
   ]
  },
  {
   "cell_type": "markdown",
   "id": "a900bda5",
   "metadata": {},
   "source": [
    "Die Balkendiagramme visualisieren den prozentualen Anteil der Ausgaben für jede Kategorie, unterteilt nach Geschlecht. Das Verständnis der geschlechtsspezifischen Unterschiede bei den Geschenkausgaben kann Händlern dabei helfen, ihre Marketingstrategien zu optimieren und gezielte Werbekampagnen zu entwickeln, die auf die bestimmten Zielgruppen abzielen."
   ]
  },
  {
   "cell_type": "code",
   "execution_count": 3,
   "id": "852505ba-3e5a-4be9-8647-79672b7cef4a",
   "metadata": {},
   "outputs": [
    {
     "data": {
      "application/vnd.plotly.v1+json": {
       "config": {
        "plotlyServerURL": "https://plot.ly"
       },
       "data": [
        {
         "name": "SpendingCelebrating",
         "type": "bar",
         "x": [
          "Men",
          "Women"
         ],
         "y": [
          9.89010989010989,
          11.297071129707113
         ]
        },
        {
         "name": "Candy",
         "type": "bar",
         "x": [
          "Men",
          "Women"
         ],
         "y": [
          19.047619047619047,
          24.686192468619247
         ]
        },
        {
         "name": "Flowers",
         "type": "bar",
         "x": [
          "Men",
          "Women"
         ],
         "y": [
          20.51282051282051,
          7.949790794979079
         ]
        },
        {
         "name": "Jewelry",
         "type": "bar",
         "x": [
          "Men",
          "Women"
         ],
         "y": [
          10.989010989010989,
          5.857740585774058
         ]
        },
        {
         "name": "GreetingCards",
         "type": "bar",
         "x": [
          "Men",
          "Women"
         ],
         "y": [
          13.553113553113553,
          17.99163179916318
         ]
        },
        {
         "name": "EveningOut",
         "type": "bar",
         "x": [
          "Men",
          "Women"
         ],
         "y": [
          12.087912087912088,
          12.133891213389122
         ]
        },
        {
         "name": "Clothing",
         "type": "bar",
         "x": [
          "Men",
          "Women"
         ],
         "y": [
          7.326007326007327,
          10.0418410041841
         ]
        },
        {
         "name": "GiftCards",
         "type": "bar",
         "x": [
          "Men",
          "Women"
         ],
         "y": [
          6.593406593406594,
          10.0418410041841
         ]
        }
       ],
       "layout": {
        "barmode": "stack",
        "template": {
         "data": {
          "bar": [
           {
            "error_x": {
             "color": "#2a3f5f"
            },
            "error_y": {
             "color": "#2a3f5f"
            },
            "marker": {
             "line": {
              "color": "#E5ECF6",
              "width": 0.5
             },
             "pattern": {
              "fillmode": "overlay",
              "size": 10,
              "solidity": 0.2
             }
            },
            "type": "bar"
           }
          ],
          "barpolar": [
           {
            "marker": {
             "line": {
              "color": "#E5ECF6",
              "width": 0.5
             },
             "pattern": {
              "fillmode": "overlay",
              "size": 10,
              "solidity": 0.2
             }
            },
            "type": "barpolar"
           }
          ],
          "carpet": [
           {
            "aaxis": {
             "endlinecolor": "#2a3f5f",
             "gridcolor": "white",
             "linecolor": "white",
             "minorgridcolor": "white",
             "startlinecolor": "#2a3f5f"
            },
            "baxis": {
             "endlinecolor": "#2a3f5f",
             "gridcolor": "white",
             "linecolor": "white",
             "minorgridcolor": "white",
             "startlinecolor": "#2a3f5f"
            },
            "type": "carpet"
           }
          ],
          "choropleth": [
           {
            "colorbar": {
             "outlinewidth": 0,
             "ticks": ""
            },
            "type": "choropleth"
           }
          ],
          "contour": [
           {
            "colorbar": {
             "outlinewidth": 0,
             "ticks": ""
            },
            "colorscale": [
             [
              0,
              "#0d0887"
             ],
             [
              0.1111111111111111,
              "#46039f"
             ],
             [
              0.2222222222222222,
              "#7201a8"
             ],
             [
              0.3333333333333333,
              "#9c179e"
             ],
             [
              0.4444444444444444,
              "#bd3786"
             ],
             [
              0.5555555555555556,
              "#d8576b"
             ],
             [
              0.6666666666666666,
              "#ed7953"
             ],
             [
              0.7777777777777778,
              "#fb9f3a"
             ],
             [
              0.8888888888888888,
              "#fdca26"
             ],
             [
              1,
              "#f0f921"
             ]
            ],
            "type": "contour"
           }
          ],
          "contourcarpet": [
           {
            "colorbar": {
             "outlinewidth": 0,
             "ticks": ""
            },
            "type": "contourcarpet"
           }
          ],
          "heatmap": [
           {
            "colorbar": {
             "outlinewidth": 0,
             "ticks": ""
            },
            "colorscale": [
             [
              0,
              "#0d0887"
             ],
             [
              0.1111111111111111,
              "#46039f"
             ],
             [
              0.2222222222222222,
              "#7201a8"
             ],
             [
              0.3333333333333333,
              "#9c179e"
             ],
             [
              0.4444444444444444,
              "#bd3786"
             ],
             [
              0.5555555555555556,
              "#d8576b"
             ],
             [
              0.6666666666666666,
              "#ed7953"
             ],
             [
              0.7777777777777778,
              "#fb9f3a"
             ],
             [
              0.8888888888888888,
              "#fdca26"
             ],
             [
              1,
              "#f0f921"
             ]
            ],
            "type": "heatmap"
           }
          ],
          "heatmapgl": [
           {
            "colorbar": {
             "outlinewidth": 0,
             "ticks": ""
            },
            "colorscale": [
             [
              0,
              "#0d0887"
             ],
             [
              0.1111111111111111,
              "#46039f"
             ],
             [
              0.2222222222222222,
              "#7201a8"
             ],
             [
              0.3333333333333333,
              "#9c179e"
             ],
             [
              0.4444444444444444,
              "#bd3786"
             ],
             [
              0.5555555555555556,
              "#d8576b"
             ],
             [
              0.6666666666666666,
              "#ed7953"
             ],
             [
              0.7777777777777778,
              "#fb9f3a"
             ],
             [
              0.8888888888888888,
              "#fdca26"
             ],
             [
              1,
              "#f0f921"
             ]
            ],
            "type": "heatmapgl"
           }
          ],
          "histogram": [
           {
            "marker": {
             "pattern": {
              "fillmode": "overlay",
              "size": 10,
              "solidity": 0.2
             }
            },
            "type": "histogram"
           }
          ],
          "histogram2d": [
           {
            "colorbar": {
             "outlinewidth": 0,
             "ticks": ""
            },
            "colorscale": [
             [
              0,
              "#0d0887"
             ],
             [
              0.1111111111111111,
              "#46039f"
             ],
             [
              0.2222222222222222,
              "#7201a8"
             ],
             [
              0.3333333333333333,
              "#9c179e"
             ],
             [
              0.4444444444444444,
              "#bd3786"
             ],
             [
              0.5555555555555556,
              "#d8576b"
             ],
             [
              0.6666666666666666,
              "#ed7953"
             ],
             [
              0.7777777777777778,
              "#fb9f3a"
             ],
             [
              0.8888888888888888,
              "#fdca26"
             ],
             [
              1,
              "#f0f921"
             ]
            ],
            "type": "histogram2d"
           }
          ],
          "histogram2dcontour": [
           {
            "colorbar": {
             "outlinewidth": 0,
             "ticks": ""
            },
            "colorscale": [
             [
              0,
              "#0d0887"
             ],
             [
              0.1111111111111111,
              "#46039f"
             ],
             [
              0.2222222222222222,
              "#7201a8"
             ],
             [
              0.3333333333333333,
              "#9c179e"
             ],
             [
              0.4444444444444444,
              "#bd3786"
             ],
             [
              0.5555555555555556,
              "#d8576b"
             ],
             [
              0.6666666666666666,
              "#ed7953"
             ],
             [
              0.7777777777777778,
              "#fb9f3a"
             ],
             [
              0.8888888888888888,
              "#fdca26"
             ],
             [
              1,
              "#f0f921"
             ]
            ],
            "type": "histogram2dcontour"
           }
          ],
          "mesh3d": [
           {
            "colorbar": {
             "outlinewidth": 0,
             "ticks": ""
            },
            "type": "mesh3d"
           }
          ],
          "parcoords": [
           {
            "line": {
             "colorbar": {
              "outlinewidth": 0,
              "ticks": ""
             }
            },
            "type": "parcoords"
           }
          ],
          "pie": [
           {
            "automargin": true,
            "type": "pie"
           }
          ],
          "scatter": [
           {
            "fillpattern": {
             "fillmode": "overlay",
             "size": 10,
             "solidity": 0.2
            },
            "type": "scatter"
           }
          ],
          "scatter3d": [
           {
            "line": {
             "colorbar": {
              "outlinewidth": 0,
              "ticks": ""
             }
            },
            "marker": {
             "colorbar": {
              "outlinewidth": 0,
              "ticks": ""
             }
            },
            "type": "scatter3d"
           }
          ],
          "scattercarpet": [
           {
            "marker": {
             "colorbar": {
              "outlinewidth": 0,
              "ticks": ""
             }
            },
            "type": "scattercarpet"
           }
          ],
          "scattergeo": [
           {
            "marker": {
             "colorbar": {
              "outlinewidth": 0,
              "ticks": ""
             }
            },
            "type": "scattergeo"
           }
          ],
          "scattergl": [
           {
            "marker": {
             "colorbar": {
              "outlinewidth": 0,
              "ticks": ""
             }
            },
            "type": "scattergl"
           }
          ],
          "scattermapbox": [
           {
            "marker": {
             "colorbar": {
              "outlinewidth": 0,
              "ticks": ""
             }
            },
            "type": "scattermapbox"
           }
          ],
          "scatterpolar": [
           {
            "marker": {
             "colorbar": {
              "outlinewidth": 0,
              "ticks": ""
             }
            },
            "type": "scatterpolar"
           }
          ],
          "scatterpolargl": [
           {
            "marker": {
             "colorbar": {
              "outlinewidth": 0,
              "ticks": ""
             }
            },
            "type": "scatterpolargl"
           }
          ],
          "scatterternary": [
           {
            "marker": {
             "colorbar": {
              "outlinewidth": 0,
              "ticks": ""
             }
            },
            "type": "scatterternary"
           }
          ],
          "surface": [
           {
            "colorbar": {
             "outlinewidth": 0,
             "ticks": ""
            },
            "colorscale": [
             [
              0,
              "#0d0887"
             ],
             [
              0.1111111111111111,
              "#46039f"
             ],
             [
              0.2222222222222222,
              "#7201a8"
             ],
             [
              0.3333333333333333,
              "#9c179e"
             ],
             [
              0.4444444444444444,
              "#bd3786"
             ],
             [
              0.5555555555555556,
              "#d8576b"
             ],
             [
              0.6666666666666666,
              "#ed7953"
             ],
             [
              0.7777777777777778,
              "#fb9f3a"
             ],
             [
              0.8888888888888888,
              "#fdca26"
             ],
             [
              1,
              "#f0f921"
             ]
            ],
            "type": "surface"
           }
          ],
          "table": [
           {
            "cells": {
             "fill": {
              "color": "#EBF0F8"
             },
             "line": {
              "color": "white"
             }
            },
            "header": {
             "fill": {
              "color": "#C8D4E3"
             },
             "line": {
              "color": "white"
             }
            },
            "type": "table"
           }
          ]
         },
         "layout": {
          "annotationdefaults": {
           "arrowcolor": "#2a3f5f",
           "arrowhead": 0,
           "arrowwidth": 1
          },
          "autotypenumbers": "strict",
          "coloraxis": {
           "colorbar": {
            "outlinewidth": 0,
            "ticks": ""
           }
          },
          "colorscale": {
           "diverging": [
            [
             0,
             "#8e0152"
            ],
            [
             0.1,
             "#c51b7d"
            ],
            [
             0.2,
             "#de77ae"
            ],
            [
             0.3,
             "#f1b6da"
            ],
            [
             0.4,
             "#fde0ef"
            ],
            [
             0.5,
             "#f7f7f7"
            ],
            [
             0.6,
             "#e6f5d0"
            ],
            [
             0.7,
             "#b8e186"
            ],
            [
             0.8,
             "#7fbc41"
            ],
            [
             0.9,
             "#4d9221"
            ],
            [
             1,
             "#276419"
            ]
           ],
           "sequential": [
            [
             0,
             "#0d0887"
            ],
            [
             0.1111111111111111,
             "#46039f"
            ],
            [
             0.2222222222222222,
             "#7201a8"
            ],
            [
             0.3333333333333333,
             "#9c179e"
            ],
            [
             0.4444444444444444,
             "#bd3786"
            ],
            [
             0.5555555555555556,
             "#d8576b"
            ],
            [
             0.6666666666666666,
             "#ed7953"
            ],
            [
             0.7777777777777778,
             "#fb9f3a"
            ],
            [
             0.8888888888888888,
             "#fdca26"
            ],
            [
             1,
             "#f0f921"
            ]
           ],
           "sequentialminus": [
            [
             0,
             "#0d0887"
            ],
            [
             0.1111111111111111,
             "#46039f"
            ],
            [
             0.2222222222222222,
             "#7201a8"
            ],
            [
             0.3333333333333333,
             "#9c179e"
            ],
            [
             0.4444444444444444,
             "#bd3786"
            ],
            [
             0.5555555555555556,
             "#d8576b"
            ],
            [
             0.6666666666666666,
             "#ed7953"
            ],
            [
             0.7777777777777778,
             "#fb9f3a"
            ],
            [
             0.8888888888888888,
             "#fdca26"
            ],
            [
             1,
             "#f0f921"
            ]
           ]
          },
          "colorway": [
           "#636efa",
           "#EF553B",
           "#00cc96",
           "#ab63fa",
           "#FFA15A",
           "#19d3f3",
           "#FF6692",
           "#B6E880",
           "#FF97FF",
           "#FECB52"
          ],
          "font": {
           "color": "#2a3f5f"
          },
          "geo": {
           "bgcolor": "white",
           "lakecolor": "white",
           "landcolor": "#E5ECF6",
           "showlakes": true,
           "showland": true,
           "subunitcolor": "white"
          },
          "hoverlabel": {
           "align": "left"
          },
          "hovermode": "closest",
          "mapbox": {
           "style": "light"
          },
          "paper_bgcolor": "white",
          "plot_bgcolor": "#E5ECF6",
          "polar": {
           "angularaxis": {
            "gridcolor": "white",
            "linecolor": "white",
            "ticks": ""
           },
           "bgcolor": "#E5ECF6",
           "radialaxis": {
            "gridcolor": "white",
            "linecolor": "white",
            "ticks": ""
           }
          },
          "scene": {
           "xaxis": {
            "backgroundcolor": "#E5ECF6",
            "gridcolor": "white",
            "gridwidth": 2,
            "linecolor": "white",
            "showbackground": true,
            "ticks": "",
            "zerolinecolor": "white"
           },
           "yaxis": {
            "backgroundcolor": "#E5ECF6",
            "gridcolor": "white",
            "gridwidth": 2,
            "linecolor": "white",
            "showbackground": true,
            "ticks": "",
            "zerolinecolor": "white"
           },
           "zaxis": {
            "backgroundcolor": "#E5ECF6",
            "gridcolor": "white",
            "gridwidth": 2,
            "linecolor": "white",
            "showbackground": true,
            "ticks": "",
            "zerolinecolor": "white"
           }
          },
          "shapedefaults": {
           "line": {
            "color": "#2a3f5f"
           }
          },
          "ternary": {
           "aaxis": {
            "gridcolor": "white",
            "linecolor": "white",
            "ticks": ""
           },
           "baxis": {
            "gridcolor": "white",
            "linecolor": "white",
            "ticks": ""
           },
           "bgcolor": "#E5ECF6",
           "caxis": {
            "gridcolor": "white",
            "linecolor": "white",
            "ticks": ""
           }
          },
          "title": {
           "x": 0.05
          },
          "xaxis": {
           "automargin": true,
           "gridcolor": "white",
           "linecolor": "white",
           "ticks": "",
           "title": {
            "standoff": 15
           },
           "zerolinecolor": "white",
           "zerolinewidth": 2
          },
          "yaxis": {
           "automargin": true,
           "gridcolor": "white",
           "linecolor": "white",
           "ticks": "",
           "title": {
            "standoff": 15
           },
           "zerolinecolor": "white",
           "zerolinewidth": 2
          }
         }
        },
        "title": {
         "text": "Percentage of different gifts by gender"
        },
        "xaxis": {
         "title": {
          "text": "Gender"
         }
        },
        "yaxis": {
         "title": {
          "text": "Percentage"
         }
        }
       }
      }
     },
     "metadata": {},
     "output_type": "display_data"
    },
    {
     "name": "stdout",
     "output_type": "stream",
     "text": [
      "  Gender  SpendingCelebrating  Candy  Flowers  Jewelry  GreetingCards  \\\n",
      "0    Men                   27     52       56       30             37   \n",
      "1  Women                   27     59       19       14             43   \n",
      "\n",
      "   EveningOut  Clothing  GiftCards  \n",
      "0          33        20         18  \n",
      "1          29        24         24  \n"
     ]
    }
   ],
   "source": [
    "#Stacked Bar Chart\n",
    "\n",
    "df = pd.read_csv('gifts_gender.csv')\n",
    "df_percent = df.set_index('Gender').div(df.set_index('Gender').sum(axis=1), axis=0) * 100\n",
    "\n",
    "fig = go.Figure()\n",
    "\n",
    "for column in df_percent.columns:\n",
    "    fig.add_trace(go.Bar(x=df_percent.index, y=df_percent[column], name=column))\n",
    "\n",
    "fig.update_layout(\n",
    "    barmode='stack',\n",
    "    xaxis=dict(title='Gender'),\n",
    "    yaxis=dict(title='Percentage'),\n",
    "    title='Percentage of different gifts by gender'\n",
    ")\n",
    "\n",
    "fig.show()\n",
    "\n",
    "print(df.head())\n"
   ]
  },
  {
   "cell_type": "markdown",
   "id": "452072a3",
   "metadata": {},
   "source": [
    "Die Pie-Charts zeigen den prozentualen Anteil der Ausgaben für jede Kategorie in verschiedenen Altersgruppen und wie diese sich verteilen. Die Kenntnis der altersspezifischen Ausgabegewohnheiten kann Unternehmen dabei unterstützen, Produkte und Angebote zu entwickeln, die besser auf die Bedürfnisse und Vorlieben verschiedener Altersgruppen abgestimmt sind."
   ]
  },
  {
   "cell_type": "code",
   "execution_count": 4,
   "id": "dd6aa466-85e3-4b5b-80b5-c26459777569",
   "metadata": {},
   "outputs": [
    {
     "data": {
      "application/vnd.plotly.v1+json": {
       "config": {
        "plotlyServerURL": "https://plot.ly"
       },
       "data": [
        {
         "domain": {
          "x": [
           0,
           0.2888888888888889
          ],
          "y": [
           0.625,
           1
          ]
         },
         "hole": 0.3,
         "labels": [
          "Candy",
          "Flowers",
          "Jewelry",
          "GreetingCards",
          "EveningOut",
          "Clothing",
          "GiftCards"
         ],
         "name": "18-24",
         "type": "pie",
         "values": [
          70,
          50,
          33,
          33,
          41,
          33,
          23
         ]
        },
        {
         "domain": {
          "x": [
           0.35555555555555557,
           0.6444444444444445
          ],
          "y": [
           0.625,
           1
          ]
         },
         "hole": 0.3,
         "labels": [
          "Candy",
          "Flowers",
          "Jewelry",
          "GreetingCards",
          "EveningOut",
          "Clothing",
          "GiftCards"
         ],
         "name": "25-34",
         "type": "pie",
         "values": [
          62,
          44,
          34,
          33,
          37,
          27,
          19
         ]
        },
        {
         "domain": {
          "x": [
           0.7111111111111111,
           1
          ],
          "y": [
           0.625,
           1
          ]
         },
         "hole": 0.3,
         "labels": [
          "Candy",
          "Flowers",
          "Jewelry",
          "GreetingCards",
          "EveningOut",
          "Clothing",
          "GiftCards"
         ],
         "name": "35-44",
         "type": "pie",
         "values": [
          58,
          41,
          29,
          42,
          30,
          26,
          22
         ]
        },
        {
         "domain": {
          "x": [
           0,
           0.2888888888888889
          ],
          "y": [
           0,
           0.375
          ]
         },
         "hole": 0.3,
         "labels": [
          "Candy",
          "Flowers",
          "Jewelry",
          "GreetingCards",
          "EveningOut",
          "Clothing",
          "GiftCards"
         ],
         "name": "45-54",
         "type": "pie",
         "values": [
          60,
          37,
          20,
          42,
          31,
          20,
          23
         ]
        },
        {
         "domain": {
          "x": [
           0.35555555555555557,
           0.6444444444444445
          ],
          "y": [
           0,
           0.375
          ]
         },
         "hole": 0.3,
         "labels": [
          "Candy",
          "Flowers",
          "Jewelry",
          "GreetingCards",
          "EveningOut",
          "Clothing",
          "GiftCards"
         ],
         "name": "55-64",
         "type": "pie",
         "values": [
          50,
          32,
          13,
          43,
          29,
          19,
          20
         ]
        },
        {
         "domain": {
          "x": [
           0.7111111111111111,
           1
          ],
          "y": [
           0,
           0.375
          ]
         },
         "hole": 0.3,
         "labels": [
          "Candy",
          "Flowers",
          "Jewelry",
          "GreetingCards",
          "EveningOut",
          "Clothing",
          "GiftCards"
         ],
         "name": "65+",
         "type": "pie",
         "values": [
          42,
          25,
          8,
          44,
          24,
          12,
          20
         ]
        }
       ],
       "layout": {
        "annotations": [
         {
          "font": {
           "size": 16
          },
          "showarrow": false,
          "text": "18-24",
          "x": 0.14444444444444446,
          "xanchor": "center",
          "xref": "paper",
          "y": 1,
          "yanchor": "bottom",
          "yref": "paper"
         },
         {
          "font": {
           "size": 16
          },
          "showarrow": false,
          "text": "25-34",
          "x": 0.5,
          "xanchor": "center",
          "xref": "paper",
          "y": 1,
          "yanchor": "bottom",
          "yref": "paper"
         },
         {
          "font": {
           "size": 16
          },
          "showarrow": false,
          "text": "35-44",
          "x": 0.8555555555555556,
          "xanchor": "center",
          "xref": "paper",
          "y": 1,
          "yanchor": "bottom",
          "yref": "paper"
         },
         {
          "font": {
           "size": 16
          },
          "showarrow": false,
          "text": "45-54",
          "x": 0.14444444444444446,
          "xanchor": "center",
          "xref": "paper",
          "y": 0.375,
          "yanchor": "bottom",
          "yref": "paper"
         },
         {
          "font": {
           "size": 16
          },
          "showarrow": false,
          "text": "55-64",
          "x": 0.5,
          "xanchor": "center",
          "xref": "paper",
          "y": 0.375,
          "yanchor": "bottom",
          "yref": "paper"
         },
         {
          "font": {
           "size": 16
          },
          "showarrow": false,
          "text": "65+",
          "x": 0.8555555555555556,
          "xanchor": "center",
          "xref": "paper",
          "y": 0.375,
          "yanchor": "bottom",
          "yref": "paper"
         }
        ],
        "showlegend": false,
        "template": {
         "data": {
          "bar": [
           {
            "error_x": {
             "color": "#2a3f5f"
            },
            "error_y": {
             "color": "#2a3f5f"
            },
            "marker": {
             "line": {
              "color": "#E5ECF6",
              "width": 0.5
             },
             "pattern": {
              "fillmode": "overlay",
              "size": 10,
              "solidity": 0.2
             }
            },
            "type": "bar"
           }
          ],
          "barpolar": [
           {
            "marker": {
             "line": {
              "color": "#E5ECF6",
              "width": 0.5
             },
             "pattern": {
              "fillmode": "overlay",
              "size": 10,
              "solidity": 0.2
             }
            },
            "type": "barpolar"
           }
          ],
          "carpet": [
           {
            "aaxis": {
             "endlinecolor": "#2a3f5f",
             "gridcolor": "white",
             "linecolor": "white",
             "minorgridcolor": "white",
             "startlinecolor": "#2a3f5f"
            },
            "baxis": {
             "endlinecolor": "#2a3f5f",
             "gridcolor": "white",
             "linecolor": "white",
             "minorgridcolor": "white",
             "startlinecolor": "#2a3f5f"
            },
            "type": "carpet"
           }
          ],
          "choropleth": [
           {
            "colorbar": {
             "outlinewidth": 0,
             "ticks": ""
            },
            "type": "choropleth"
           }
          ],
          "contour": [
           {
            "colorbar": {
             "outlinewidth": 0,
             "ticks": ""
            },
            "colorscale": [
             [
              0,
              "#0d0887"
             ],
             [
              0.1111111111111111,
              "#46039f"
             ],
             [
              0.2222222222222222,
              "#7201a8"
             ],
             [
              0.3333333333333333,
              "#9c179e"
             ],
             [
              0.4444444444444444,
              "#bd3786"
             ],
             [
              0.5555555555555556,
              "#d8576b"
             ],
             [
              0.6666666666666666,
              "#ed7953"
             ],
             [
              0.7777777777777778,
              "#fb9f3a"
             ],
             [
              0.8888888888888888,
              "#fdca26"
             ],
             [
              1,
              "#f0f921"
             ]
            ],
            "type": "contour"
           }
          ],
          "contourcarpet": [
           {
            "colorbar": {
             "outlinewidth": 0,
             "ticks": ""
            },
            "type": "contourcarpet"
           }
          ],
          "heatmap": [
           {
            "colorbar": {
             "outlinewidth": 0,
             "ticks": ""
            },
            "colorscale": [
             [
              0,
              "#0d0887"
             ],
             [
              0.1111111111111111,
              "#46039f"
             ],
             [
              0.2222222222222222,
              "#7201a8"
             ],
             [
              0.3333333333333333,
              "#9c179e"
             ],
             [
              0.4444444444444444,
              "#bd3786"
             ],
             [
              0.5555555555555556,
              "#d8576b"
             ],
             [
              0.6666666666666666,
              "#ed7953"
             ],
             [
              0.7777777777777778,
              "#fb9f3a"
             ],
             [
              0.8888888888888888,
              "#fdca26"
             ],
             [
              1,
              "#f0f921"
             ]
            ],
            "type": "heatmap"
           }
          ],
          "heatmapgl": [
           {
            "colorbar": {
             "outlinewidth": 0,
             "ticks": ""
            },
            "colorscale": [
             [
              0,
              "#0d0887"
             ],
             [
              0.1111111111111111,
              "#46039f"
             ],
             [
              0.2222222222222222,
              "#7201a8"
             ],
             [
              0.3333333333333333,
              "#9c179e"
             ],
             [
              0.4444444444444444,
              "#bd3786"
             ],
             [
              0.5555555555555556,
              "#d8576b"
             ],
             [
              0.6666666666666666,
              "#ed7953"
             ],
             [
              0.7777777777777778,
              "#fb9f3a"
             ],
             [
              0.8888888888888888,
              "#fdca26"
             ],
             [
              1,
              "#f0f921"
             ]
            ],
            "type": "heatmapgl"
           }
          ],
          "histogram": [
           {
            "marker": {
             "pattern": {
              "fillmode": "overlay",
              "size": 10,
              "solidity": 0.2
             }
            },
            "type": "histogram"
           }
          ],
          "histogram2d": [
           {
            "colorbar": {
             "outlinewidth": 0,
             "ticks": ""
            },
            "colorscale": [
             [
              0,
              "#0d0887"
             ],
             [
              0.1111111111111111,
              "#46039f"
             ],
             [
              0.2222222222222222,
              "#7201a8"
             ],
             [
              0.3333333333333333,
              "#9c179e"
             ],
             [
              0.4444444444444444,
              "#bd3786"
             ],
             [
              0.5555555555555556,
              "#d8576b"
             ],
             [
              0.6666666666666666,
              "#ed7953"
             ],
             [
              0.7777777777777778,
              "#fb9f3a"
             ],
             [
              0.8888888888888888,
              "#fdca26"
             ],
             [
              1,
              "#f0f921"
             ]
            ],
            "type": "histogram2d"
           }
          ],
          "histogram2dcontour": [
           {
            "colorbar": {
             "outlinewidth": 0,
             "ticks": ""
            },
            "colorscale": [
             [
              0,
              "#0d0887"
             ],
             [
              0.1111111111111111,
              "#46039f"
             ],
             [
              0.2222222222222222,
              "#7201a8"
             ],
             [
              0.3333333333333333,
              "#9c179e"
             ],
             [
              0.4444444444444444,
              "#bd3786"
             ],
             [
              0.5555555555555556,
              "#d8576b"
             ],
             [
              0.6666666666666666,
              "#ed7953"
             ],
             [
              0.7777777777777778,
              "#fb9f3a"
             ],
             [
              0.8888888888888888,
              "#fdca26"
             ],
             [
              1,
              "#f0f921"
             ]
            ],
            "type": "histogram2dcontour"
           }
          ],
          "mesh3d": [
           {
            "colorbar": {
             "outlinewidth": 0,
             "ticks": ""
            },
            "type": "mesh3d"
           }
          ],
          "parcoords": [
           {
            "line": {
             "colorbar": {
              "outlinewidth": 0,
              "ticks": ""
             }
            },
            "type": "parcoords"
           }
          ],
          "pie": [
           {
            "automargin": true,
            "type": "pie"
           }
          ],
          "scatter": [
           {
            "fillpattern": {
             "fillmode": "overlay",
             "size": 10,
             "solidity": 0.2
            },
            "type": "scatter"
           }
          ],
          "scatter3d": [
           {
            "line": {
             "colorbar": {
              "outlinewidth": 0,
              "ticks": ""
             }
            },
            "marker": {
             "colorbar": {
              "outlinewidth": 0,
              "ticks": ""
             }
            },
            "type": "scatter3d"
           }
          ],
          "scattercarpet": [
           {
            "marker": {
             "colorbar": {
              "outlinewidth": 0,
              "ticks": ""
             }
            },
            "type": "scattercarpet"
           }
          ],
          "scattergeo": [
           {
            "marker": {
             "colorbar": {
              "outlinewidth": 0,
              "ticks": ""
             }
            },
            "type": "scattergeo"
           }
          ],
          "scattergl": [
           {
            "marker": {
             "colorbar": {
              "outlinewidth": 0,
              "ticks": ""
             }
            },
            "type": "scattergl"
           }
          ],
          "scattermapbox": [
           {
            "marker": {
             "colorbar": {
              "outlinewidth": 0,
              "ticks": ""
             }
            },
            "type": "scattermapbox"
           }
          ],
          "scatterpolar": [
           {
            "marker": {
             "colorbar": {
              "outlinewidth": 0,
              "ticks": ""
             }
            },
            "type": "scatterpolar"
           }
          ],
          "scatterpolargl": [
           {
            "marker": {
             "colorbar": {
              "outlinewidth": 0,
              "ticks": ""
             }
            },
            "type": "scatterpolargl"
           }
          ],
          "scatterternary": [
           {
            "marker": {
             "colorbar": {
              "outlinewidth": 0,
              "ticks": ""
             }
            },
            "type": "scatterternary"
           }
          ],
          "surface": [
           {
            "colorbar": {
             "outlinewidth": 0,
             "ticks": ""
            },
            "colorscale": [
             [
              0,
              "#0d0887"
             ],
             [
              0.1111111111111111,
              "#46039f"
             ],
             [
              0.2222222222222222,
              "#7201a8"
             ],
             [
              0.3333333333333333,
              "#9c179e"
             ],
             [
              0.4444444444444444,
              "#bd3786"
             ],
             [
              0.5555555555555556,
              "#d8576b"
             ],
             [
              0.6666666666666666,
              "#ed7953"
             ],
             [
              0.7777777777777778,
              "#fb9f3a"
             ],
             [
              0.8888888888888888,
              "#fdca26"
             ],
             [
              1,
              "#f0f921"
             ]
            ],
            "type": "surface"
           }
          ],
          "table": [
           {
            "cells": {
             "fill": {
              "color": "#EBF0F8"
             },
             "line": {
              "color": "white"
             }
            },
            "header": {
             "fill": {
              "color": "#C8D4E3"
             },
             "line": {
              "color": "white"
             }
            },
            "type": "table"
           }
          ]
         },
         "layout": {
          "annotationdefaults": {
           "arrowcolor": "#2a3f5f",
           "arrowhead": 0,
           "arrowwidth": 1
          },
          "autotypenumbers": "strict",
          "coloraxis": {
           "colorbar": {
            "outlinewidth": 0,
            "ticks": ""
           }
          },
          "colorscale": {
           "diverging": [
            [
             0,
             "#8e0152"
            ],
            [
             0.1,
             "#c51b7d"
            ],
            [
             0.2,
             "#de77ae"
            ],
            [
             0.3,
             "#f1b6da"
            ],
            [
             0.4,
             "#fde0ef"
            ],
            [
             0.5,
             "#f7f7f7"
            ],
            [
             0.6,
             "#e6f5d0"
            ],
            [
             0.7,
             "#b8e186"
            ],
            [
             0.8,
             "#7fbc41"
            ],
            [
             0.9,
             "#4d9221"
            ],
            [
             1,
             "#276419"
            ]
           ],
           "sequential": [
            [
             0,
             "#0d0887"
            ],
            [
             0.1111111111111111,
             "#46039f"
            ],
            [
             0.2222222222222222,
             "#7201a8"
            ],
            [
             0.3333333333333333,
             "#9c179e"
            ],
            [
             0.4444444444444444,
             "#bd3786"
            ],
            [
             0.5555555555555556,
             "#d8576b"
            ],
            [
             0.6666666666666666,
             "#ed7953"
            ],
            [
             0.7777777777777778,
             "#fb9f3a"
            ],
            [
             0.8888888888888888,
             "#fdca26"
            ],
            [
             1,
             "#f0f921"
            ]
           ],
           "sequentialminus": [
            [
             0,
             "#0d0887"
            ],
            [
             0.1111111111111111,
             "#46039f"
            ],
            [
             0.2222222222222222,
             "#7201a8"
            ],
            [
             0.3333333333333333,
             "#9c179e"
            ],
            [
             0.4444444444444444,
             "#bd3786"
            ],
            [
             0.5555555555555556,
             "#d8576b"
            ],
            [
             0.6666666666666666,
             "#ed7953"
            ],
            [
             0.7777777777777778,
             "#fb9f3a"
            ],
            [
             0.8888888888888888,
             "#fdca26"
            ],
            [
             1,
             "#f0f921"
            ]
           ]
          },
          "colorway": [
           "#636efa",
           "#EF553B",
           "#00cc96",
           "#ab63fa",
           "#FFA15A",
           "#19d3f3",
           "#FF6692",
           "#B6E880",
           "#FF97FF",
           "#FECB52"
          ],
          "font": {
           "color": "#2a3f5f"
          },
          "geo": {
           "bgcolor": "white",
           "lakecolor": "white",
           "landcolor": "#E5ECF6",
           "showlakes": true,
           "showland": true,
           "subunitcolor": "white"
          },
          "hoverlabel": {
           "align": "left"
          },
          "hovermode": "closest",
          "mapbox": {
           "style": "light"
          },
          "paper_bgcolor": "white",
          "plot_bgcolor": "#E5ECF6",
          "polar": {
           "angularaxis": {
            "gridcolor": "white",
            "linecolor": "white",
            "ticks": ""
           },
           "bgcolor": "#E5ECF6",
           "radialaxis": {
            "gridcolor": "white",
            "linecolor": "white",
            "ticks": ""
           }
          },
          "scene": {
           "xaxis": {
            "backgroundcolor": "#E5ECF6",
            "gridcolor": "white",
            "gridwidth": 2,
            "linecolor": "white",
            "showbackground": true,
            "ticks": "",
            "zerolinecolor": "white"
           },
           "yaxis": {
            "backgroundcolor": "#E5ECF6",
            "gridcolor": "white",
            "gridwidth": 2,
            "linecolor": "white",
            "showbackground": true,
            "ticks": "",
            "zerolinecolor": "white"
           },
           "zaxis": {
            "backgroundcolor": "#E5ECF6",
            "gridcolor": "white",
            "gridwidth": 2,
            "linecolor": "white",
            "showbackground": true,
            "ticks": "",
            "zerolinecolor": "white"
           }
          },
          "shapedefaults": {
           "line": {
            "color": "#2a3f5f"
           }
          },
          "ternary": {
           "aaxis": {
            "gridcolor": "white",
            "linecolor": "white",
            "ticks": ""
           },
           "baxis": {
            "gridcolor": "white",
            "linecolor": "white",
            "ticks": ""
           },
           "bgcolor": "#E5ECF6",
           "caxis": {
            "gridcolor": "white",
            "linecolor": "white",
            "ticks": ""
           }
          },
          "title": {
           "x": 0.05
          },
          "xaxis": {
           "automargin": true,
           "gridcolor": "white",
           "linecolor": "white",
           "ticks": "",
           "title": {
            "standoff": 15
           },
           "zerolinecolor": "white",
           "zerolinewidth": 2
          },
          "yaxis": {
           "automargin": true,
           "gridcolor": "white",
           "linecolor": "white",
           "ticks": "",
           "title": {
            "standoff": 15
           },
           "zerolinecolor": "white",
           "zerolinewidth": 2
          }
         }
        },
        "title": {
         "text": "Percentage of gifts by age group"
        }
       }
      }
     },
     "metadata": {},
     "output_type": "display_data"
    }
   ],
   "source": [
    "#pie chart\n",
    "\n",
    "df = pd.read_csv('gifts_age.csv')\n",
    "df = df.drop(columns=['SpendingCelebrating'])\n",
    "\n",
    "fig = sp.make_subplots(rows=2, cols=3, subplot_titles=df['Age'].tolist(), specs=[[{'type': 'pie'}, {'type': 'pie'}, {'type': 'pie'}],\n",
    "                                                                                   [{'type': 'pie'}, {'type': 'pie'}, {'type': 'pie'}]])\n",
    "\n",
    "for i, age_group in enumerate(df['Age']):\n",
    "    percentages = df[df['Age'] == age_group].squeeze()[1:]\n",
    "    fig.add_trace(go.Pie(labels=percentages.index, values=percentages, hole=0.3, name=age_group),\n",
    "                  row=(i // 3) + 1, col=(i % 3) + 1)\n",
    "\n",
    "fig.update_layout(title_text='Percentage of gifts by age group', showlegend=False)\n",
    "\n",
    "fig.show()"
   ]
  },
  {
   "cell_type": "code",
   "execution_count": 5,
   "id": "e2b4b159",
   "metadata": {},
   "outputs": [],
   "source": [
    "df = pd.read_csv('historical_spending.csv')"
   ]
  },
  {
   "cell_type": "markdown",
   "id": "71b69622",
   "metadata": {},
   "source": [
    "Das Liniendiagramm zeigt den zeitlichen Verlauf der Valentinstagsausgaben. Es visualisiert Trends und Veränderungen im Ausgabeverhalten und bei der Feierquote über die Jahre. Durch die Darstellung verschiedener Ausgabenkategorien wird deutlich, welche Geschenke an Beliebtheit gewonnen oder verloren haben. Durch Klicken auf die Legendenlinien können diese im Diagramm ein- oder ausgeblendet werden. \n",
    "\n",
    "*Beachtung der Achsenbeschriftung auf beiden Seiten!*"
   ]
  },
  {
   "cell_type": "code",
   "execution_count": 6,
   "id": "4b47759b-e587-48ae-90d4-e2b4a3dd2036",
   "metadata": {},
   "outputs": [
    {
     "data": {
      "application/vnd.plotly.v1+json": {
       "config": {
        "plotlyServerURL": "https://plot.ly"
       },
       "data": [
        {
         "mode": "lines",
         "name": "PerPerson",
         "type": "scatter",
         "x": [
          2010,
          2011,
          2012,
          2013,
          2014,
          2015,
          2016,
          2017,
          2018,
          2019,
          2020,
          2021,
          2022
         ],
         "y": [
          103,
          116.21,
          126.03,
          130.97,
          133.91,
          142.31,
          146.84,
          136.57,
          143.56,
          161.96,
          196.31,
          164.76,
          175.41
         ]
        },
        {
         "mode": "lines",
         "name": "Candy",
         "type": "scatter",
         "x": [
          2010,
          2011,
          2012,
          2013,
          2014,
          2015,
          2016,
          2017,
          2018,
          2019,
          2020,
          2021,
          2022
         ],
         "y": [
          8.6,
          10.75,
          10.85,
          11.64,
          10.8,
          12.7,
          13.11,
          12.68,
          13.12,
          14.12,
          17.3,
          15.32,
          15.9
         ]
        },
        {
         "mode": "lines",
         "name": "Flowers",
         "type": "scatter",
         "x": [
          2010,
          2011,
          2012,
          2013,
          2014,
          2015,
          2016,
          2017,
          2018,
          2019,
          2020,
          2021,
          2022
         ],
         "y": [
          12.33,
          12.62,
          13.49,
          13.48,
          15,
          15.72,
          14.78,
          14.63,
          14.75,
          15.07,
          16.49,
          15.42,
          16.71
         ]
        },
        {
         "mode": "lines",
         "name": "Jewelry",
         "type": "scatter",
         "x": [
          2010,
          2011,
          2012,
          2013,
          2014,
          2015,
          2016,
          2017,
          2018,
          2019,
          2020,
          2021,
          2022
         ],
         "y": [
          21.52,
          26.18,
          29.6,
          30.94,
          30.58,
          36.3,
          33.11,
          32.32,
          34.1,
          30.34,
          41.65,
          30.71,
          45.75
         ]
        },
        {
         "mode": "lines",
         "name": "GreetingCards",
         "type": "scatter",
         "x": [
          2010,
          2011,
          2012,
          2013,
          2014,
          2015,
          2016,
          2017,
          2018,
          2019,
          2020,
          2021,
          2022
         ],
         "y": [
          5.91,
          8.09,
          6.93,
          8.32,
          7.97,
          7.87,
          8.52,
          7.36,
          6.55,
          7.31,
          9.01,
          8.48,
          7.47
         ]
        },
        {
         "mode": "lines",
         "name": "EveningOut",
         "type": "scatter",
         "x": [
          2010,
          2011,
          2012,
          2013,
          2014,
          2015,
          2016,
          2017,
          2018,
          2019,
          2020,
          2021,
          2022
         ],
         "y": [
          23.76,
          24.86,
          25.66,
          27.93,
          27.48,
          27.27,
          33.46,
          28.46,
          26.96,
          27.72,
          30.78,
          21.39,
          31.35
         ]
        },
        {
         "mode": "lines",
         "name": "Clothing",
         "type": "scatter",
         "x": [
          2010,
          2011,
          2012,
          2013,
          2014,
          2015,
          2016,
          2017,
          2018,
          2019,
          2020,
          2021,
          2022
         ],
         "y": [
          10.93,
          12,
          10.42,
          11.46,
          13.37,
          14.72,
          15.05,
          13.91,
          14.04,
          16.08,
          20.67,
          20.05,
          21.46
         ]
        },
        {
         "mode": "lines",
         "name": "GiftCards",
         "type": "scatter",
         "x": [
          2010,
          2011,
          2012,
          2013,
          2014,
          2015,
          2016,
          2017,
          2018,
          2019,
          2020,
          2021,
          2022
         ],
         "y": [
          8.42,
          11.21,
          8.43,
          10.23,
          9,
          11.05,
          12.52,
          10.23,
          11.04,
          10.31,
          14.21,
          15.67,
          17.22
         ]
        },
        {
         "mode": "lines",
         "name": "PercentCelebrating",
         "type": "scatter",
         "x": [
          2010,
          2011,
          2012,
          2013,
          2014,
          2015,
          2016,
          2017,
          2018,
          2019,
          2020,
          2021,
          2022
         ],
         "y": [
          60,
          58,
          59,
          60,
          54,
          55,
          55,
          54,
          55,
          51,
          55,
          52,
          53
         ],
         "yaxis": "y2"
        }
       ],
       "layout": {
        "legend": {
         "font": {
          "size": 10
         },
         "orientation": "h",
         "x": 1,
         "xanchor": "right",
         "y": 1.02,
         "yanchor": "bottom"
        },
        "template": {
         "data": {
          "bar": [
           {
            "error_x": {
             "color": "#2a3f5f"
            },
            "error_y": {
             "color": "#2a3f5f"
            },
            "marker": {
             "line": {
              "color": "#E5ECF6",
              "width": 0.5
             },
             "pattern": {
              "fillmode": "overlay",
              "size": 10,
              "solidity": 0.2
             }
            },
            "type": "bar"
           }
          ],
          "barpolar": [
           {
            "marker": {
             "line": {
              "color": "#E5ECF6",
              "width": 0.5
             },
             "pattern": {
              "fillmode": "overlay",
              "size": 10,
              "solidity": 0.2
             }
            },
            "type": "barpolar"
           }
          ],
          "carpet": [
           {
            "aaxis": {
             "endlinecolor": "#2a3f5f",
             "gridcolor": "white",
             "linecolor": "white",
             "minorgridcolor": "white",
             "startlinecolor": "#2a3f5f"
            },
            "baxis": {
             "endlinecolor": "#2a3f5f",
             "gridcolor": "white",
             "linecolor": "white",
             "minorgridcolor": "white",
             "startlinecolor": "#2a3f5f"
            },
            "type": "carpet"
           }
          ],
          "choropleth": [
           {
            "colorbar": {
             "outlinewidth": 0,
             "ticks": ""
            },
            "type": "choropleth"
           }
          ],
          "contour": [
           {
            "colorbar": {
             "outlinewidth": 0,
             "ticks": ""
            },
            "colorscale": [
             [
              0,
              "#0d0887"
             ],
             [
              0.1111111111111111,
              "#46039f"
             ],
             [
              0.2222222222222222,
              "#7201a8"
             ],
             [
              0.3333333333333333,
              "#9c179e"
             ],
             [
              0.4444444444444444,
              "#bd3786"
             ],
             [
              0.5555555555555556,
              "#d8576b"
             ],
             [
              0.6666666666666666,
              "#ed7953"
             ],
             [
              0.7777777777777778,
              "#fb9f3a"
             ],
             [
              0.8888888888888888,
              "#fdca26"
             ],
             [
              1,
              "#f0f921"
             ]
            ],
            "type": "contour"
           }
          ],
          "contourcarpet": [
           {
            "colorbar": {
             "outlinewidth": 0,
             "ticks": ""
            },
            "type": "contourcarpet"
           }
          ],
          "heatmap": [
           {
            "colorbar": {
             "outlinewidth": 0,
             "ticks": ""
            },
            "colorscale": [
             [
              0,
              "#0d0887"
             ],
             [
              0.1111111111111111,
              "#46039f"
             ],
             [
              0.2222222222222222,
              "#7201a8"
             ],
             [
              0.3333333333333333,
              "#9c179e"
             ],
             [
              0.4444444444444444,
              "#bd3786"
             ],
             [
              0.5555555555555556,
              "#d8576b"
             ],
             [
              0.6666666666666666,
              "#ed7953"
             ],
             [
              0.7777777777777778,
              "#fb9f3a"
             ],
             [
              0.8888888888888888,
              "#fdca26"
             ],
             [
              1,
              "#f0f921"
             ]
            ],
            "type": "heatmap"
           }
          ],
          "heatmapgl": [
           {
            "colorbar": {
             "outlinewidth": 0,
             "ticks": ""
            },
            "colorscale": [
             [
              0,
              "#0d0887"
             ],
             [
              0.1111111111111111,
              "#46039f"
             ],
             [
              0.2222222222222222,
              "#7201a8"
             ],
             [
              0.3333333333333333,
              "#9c179e"
             ],
             [
              0.4444444444444444,
              "#bd3786"
             ],
             [
              0.5555555555555556,
              "#d8576b"
             ],
             [
              0.6666666666666666,
              "#ed7953"
             ],
             [
              0.7777777777777778,
              "#fb9f3a"
             ],
             [
              0.8888888888888888,
              "#fdca26"
             ],
             [
              1,
              "#f0f921"
             ]
            ],
            "type": "heatmapgl"
           }
          ],
          "histogram": [
           {
            "marker": {
             "pattern": {
              "fillmode": "overlay",
              "size": 10,
              "solidity": 0.2
             }
            },
            "type": "histogram"
           }
          ],
          "histogram2d": [
           {
            "colorbar": {
             "outlinewidth": 0,
             "ticks": ""
            },
            "colorscale": [
             [
              0,
              "#0d0887"
             ],
             [
              0.1111111111111111,
              "#46039f"
             ],
             [
              0.2222222222222222,
              "#7201a8"
             ],
             [
              0.3333333333333333,
              "#9c179e"
             ],
             [
              0.4444444444444444,
              "#bd3786"
             ],
             [
              0.5555555555555556,
              "#d8576b"
             ],
             [
              0.6666666666666666,
              "#ed7953"
             ],
             [
              0.7777777777777778,
              "#fb9f3a"
             ],
             [
              0.8888888888888888,
              "#fdca26"
             ],
             [
              1,
              "#f0f921"
             ]
            ],
            "type": "histogram2d"
           }
          ],
          "histogram2dcontour": [
           {
            "colorbar": {
             "outlinewidth": 0,
             "ticks": ""
            },
            "colorscale": [
             [
              0,
              "#0d0887"
             ],
             [
              0.1111111111111111,
              "#46039f"
             ],
             [
              0.2222222222222222,
              "#7201a8"
             ],
             [
              0.3333333333333333,
              "#9c179e"
             ],
             [
              0.4444444444444444,
              "#bd3786"
             ],
             [
              0.5555555555555556,
              "#d8576b"
             ],
             [
              0.6666666666666666,
              "#ed7953"
             ],
             [
              0.7777777777777778,
              "#fb9f3a"
             ],
             [
              0.8888888888888888,
              "#fdca26"
             ],
             [
              1,
              "#f0f921"
             ]
            ],
            "type": "histogram2dcontour"
           }
          ],
          "mesh3d": [
           {
            "colorbar": {
             "outlinewidth": 0,
             "ticks": ""
            },
            "type": "mesh3d"
           }
          ],
          "parcoords": [
           {
            "line": {
             "colorbar": {
              "outlinewidth": 0,
              "ticks": ""
             }
            },
            "type": "parcoords"
           }
          ],
          "pie": [
           {
            "automargin": true,
            "type": "pie"
           }
          ],
          "scatter": [
           {
            "fillpattern": {
             "fillmode": "overlay",
             "size": 10,
             "solidity": 0.2
            },
            "type": "scatter"
           }
          ],
          "scatter3d": [
           {
            "line": {
             "colorbar": {
              "outlinewidth": 0,
              "ticks": ""
             }
            },
            "marker": {
             "colorbar": {
              "outlinewidth": 0,
              "ticks": ""
             }
            },
            "type": "scatter3d"
           }
          ],
          "scattercarpet": [
           {
            "marker": {
             "colorbar": {
              "outlinewidth": 0,
              "ticks": ""
             }
            },
            "type": "scattercarpet"
           }
          ],
          "scattergeo": [
           {
            "marker": {
             "colorbar": {
              "outlinewidth": 0,
              "ticks": ""
             }
            },
            "type": "scattergeo"
           }
          ],
          "scattergl": [
           {
            "marker": {
             "colorbar": {
              "outlinewidth": 0,
              "ticks": ""
             }
            },
            "type": "scattergl"
           }
          ],
          "scattermapbox": [
           {
            "marker": {
             "colorbar": {
              "outlinewidth": 0,
              "ticks": ""
             }
            },
            "type": "scattermapbox"
           }
          ],
          "scatterpolar": [
           {
            "marker": {
             "colorbar": {
              "outlinewidth": 0,
              "ticks": ""
             }
            },
            "type": "scatterpolar"
           }
          ],
          "scatterpolargl": [
           {
            "marker": {
             "colorbar": {
              "outlinewidth": 0,
              "ticks": ""
             }
            },
            "type": "scatterpolargl"
           }
          ],
          "scatterternary": [
           {
            "marker": {
             "colorbar": {
              "outlinewidth": 0,
              "ticks": ""
             }
            },
            "type": "scatterternary"
           }
          ],
          "surface": [
           {
            "colorbar": {
             "outlinewidth": 0,
             "ticks": ""
            },
            "colorscale": [
             [
              0,
              "#0d0887"
             ],
             [
              0.1111111111111111,
              "#46039f"
             ],
             [
              0.2222222222222222,
              "#7201a8"
             ],
             [
              0.3333333333333333,
              "#9c179e"
             ],
             [
              0.4444444444444444,
              "#bd3786"
             ],
             [
              0.5555555555555556,
              "#d8576b"
             ],
             [
              0.6666666666666666,
              "#ed7953"
             ],
             [
              0.7777777777777778,
              "#fb9f3a"
             ],
             [
              0.8888888888888888,
              "#fdca26"
             ],
             [
              1,
              "#f0f921"
             ]
            ],
            "type": "surface"
           }
          ],
          "table": [
           {
            "cells": {
             "fill": {
              "color": "#EBF0F8"
             },
             "line": {
              "color": "white"
             }
            },
            "header": {
             "fill": {
              "color": "#C8D4E3"
             },
             "line": {
              "color": "white"
             }
            },
            "type": "table"
           }
          ]
         },
         "layout": {
          "annotationdefaults": {
           "arrowcolor": "#2a3f5f",
           "arrowhead": 0,
           "arrowwidth": 1
          },
          "autotypenumbers": "strict",
          "coloraxis": {
           "colorbar": {
            "outlinewidth": 0,
            "ticks": ""
           }
          },
          "colorscale": {
           "diverging": [
            [
             0,
             "#8e0152"
            ],
            [
             0.1,
             "#c51b7d"
            ],
            [
             0.2,
             "#de77ae"
            ],
            [
             0.3,
             "#f1b6da"
            ],
            [
             0.4,
             "#fde0ef"
            ],
            [
             0.5,
             "#f7f7f7"
            ],
            [
             0.6,
             "#e6f5d0"
            ],
            [
             0.7,
             "#b8e186"
            ],
            [
             0.8,
             "#7fbc41"
            ],
            [
             0.9,
             "#4d9221"
            ],
            [
             1,
             "#276419"
            ]
           ],
           "sequential": [
            [
             0,
             "#0d0887"
            ],
            [
             0.1111111111111111,
             "#46039f"
            ],
            [
             0.2222222222222222,
             "#7201a8"
            ],
            [
             0.3333333333333333,
             "#9c179e"
            ],
            [
             0.4444444444444444,
             "#bd3786"
            ],
            [
             0.5555555555555556,
             "#d8576b"
            ],
            [
             0.6666666666666666,
             "#ed7953"
            ],
            [
             0.7777777777777778,
             "#fb9f3a"
            ],
            [
             0.8888888888888888,
             "#fdca26"
            ],
            [
             1,
             "#f0f921"
            ]
           ],
           "sequentialminus": [
            [
             0,
             "#0d0887"
            ],
            [
             0.1111111111111111,
             "#46039f"
            ],
            [
             0.2222222222222222,
             "#7201a8"
            ],
            [
             0.3333333333333333,
             "#9c179e"
            ],
            [
             0.4444444444444444,
             "#bd3786"
            ],
            [
             0.5555555555555556,
             "#d8576b"
            ],
            [
             0.6666666666666666,
             "#ed7953"
            ],
            [
             0.7777777777777778,
             "#fb9f3a"
            ],
            [
             0.8888888888888888,
             "#fdca26"
            ],
            [
             1,
             "#f0f921"
            ]
           ]
          },
          "colorway": [
           "#636efa",
           "#EF553B",
           "#00cc96",
           "#ab63fa",
           "#FFA15A",
           "#19d3f3",
           "#FF6692",
           "#B6E880",
           "#FF97FF",
           "#FECB52"
          ],
          "font": {
           "color": "#2a3f5f"
          },
          "geo": {
           "bgcolor": "white",
           "lakecolor": "white",
           "landcolor": "#E5ECF6",
           "showlakes": true,
           "showland": true,
           "subunitcolor": "white"
          },
          "hoverlabel": {
           "align": "left"
          },
          "hovermode": "closest",
          "mapbox": {
           "style": "light"
          },
          "paper_bgcolor": "white",
          "plot_bgcolor": "#E5ECF6",
          "polar": {
           "angularaxis": {
            "gridcolor": "white",
            "linecolor": "white",
            "ticks": ""
           },
           "bgcolor": "#E5ECF6",
           "radialaxis": {
            "gridcolor": "white",
            "linecolor": "white",
            "ticks": ""
           }
          },
          "scene": {
           "xaxis": {
            "backgroundcolor": "#E5ECF6",
            "gridcolor": "white",
            "gridwidth": 2,
            "linecolor": "white",
            "showbackground": true,
            "ticks": "",
            "zerolinecolor": "white"
           },
           "yaxis": {
            "backgroundcolor": "#E5ECF6",
            "gridcolor": "white",
            "gridwidth": 2,
            "linecolor": "white",
            "showbackground": true,
            "ticks": "",
            "zerolinecolor": "white"
           },
           "zaxis": {
            "backgroundcolor": "#E5ECF6",
            "gridcolor": "white",
            "gridwidth": 2,
            "linecolor": "white",
            "showbackground": true,
            "ticks": "",
            "zerolinecolor": "white"
           }
          },
          "shapedefaults": {
           "line": {
            "color": "#2a3f5f"
           }
          },
          "ternary": {
           "aaxis": {
            "gridcolor": "white",
            "linecolor": "white",
            "ticks": ""
           },
           "baxis": {
            "gridcolor": "white",
            "linecolor": "white",
            "ticks": ""
           },
           "bgcolor": "#E5ECF6",
           "caxis": {
            "gridcolor": "white",
            "linecolor": "white",
            "ticks": ""
           }
          },
          "title": {
           "x": 0.05
          },
          "xaxis": {
           "automargin": true,
           "gridcolor": "white",
           "linecolor": "white",
           "ticks": "",
           "title": {
            "standoff": 15
           },
           "zerolinecolor": "white",
           "zerolinewidth": 2
          },
          "yaxis": {
           "automargin": true,
           "gridcolor": "white",
           "linecolor": "white",
           "ticks": "",
           "title": {
            "standoff": 15
           },
           "zerolinecolor": "white",
           "zerolinewidth": 2
          }
         }
        },
        "title": {
         "text": "Historical course of spending behaviour (2010-2022)"
        },
        "xaxis": {
         "title": {
          "text": "Jahr"
         }
        },
        "yaxis": {
         "title": {
          "text": "Percentage/expenditure in US dollars"
         }
        },
        "yaxis2": {
         "overlaying": "y",
         "range": [
          0,
          100
         ],
         "side": "right",
         "title": {
          "text": "Percentage of those celebrating"
         }
        }
       }
      }
     },
     "metadata": {},
     "output_type": "display_data"
    }
   ],
   "source": [
    "#line diagram\n",
    "\n",
    "fig = go.Figure()\n",
    "\n",
    "categories = df.columns[2:]\n",
    "for category in categories:\n",
    "    fig.add_trace(go.Scatter(x=df['Year'], y=df[category], mode='lines', name=category))\n",
    "\n",
    "fig.add_trace(go.Scatter(x=df['Year'], y=df['PercentCelebrating'], mode='lines', name='PercentCelebrating', yaxis='y2'))\n",
    "\n",
    "fig.update_layout(title_text='Historical course of spending behaviour (2010-2022)',\n",
    "                  xaxis_title='Jahr', yaxis_title='Percentage/expenditure in US dollars',\n",
    "                  yaxis2=dict(title='Percentage of those celebrating', overlaying='y', side='right', range=[0, 100]),\n",
    "                  legend=dict(font=dict(size=10), orientation=\"h\", yanchor=\"bottom\", y=1.02, xanchor=\"right\", x=1))\n",
    "\n",
    "\n",
    "fig.show()"
   ]
  },
  {
   "cell_type": "markdown",
   "id": "7c6b25dc",
   "metadata": {},
   "source": [
    "Eine gründliche Analyse der Datenqualität ist entscheidend, um sicherzustellen, dass die Ergebnisse zuverlässig und aussagekräftig sind. Die Datenqualität dieses Datensatzes wurde durch mehrere Analysen bewertet, einschließlich der Überprüfung auf fehlende Werte und der Erstellung einer Korrelationsmatrix.\n",
    "\n",
    "Im Valentinstagsdatensatz sind keine Null-Werte vorhanden, was auf eine sehr gute Datenqualität schließen lässt. Zudem sind alle Werte konsequent im gleichen Format dargestellt, was ihre Interpretation erleichtert. Die Korrelationsmatrix offenbart, dass die Ausgaben für Candy, Flowers, Jewelry sowie Clothing und GiftCards stark miteinander korrelieren. \n",
    "Die Datenqualität der anderen Datensets ist recht gut, da dort ebenfalls keine Null-Werte vorhanden sind, die angegebenen Werte jedoch in Prozent angegeben sind und nicht als absolute Werte."
   ]
  },
  {
   "cell_type": "code",
   "execution_count": 7,
   "id": "cd17afb0-6f59-4af1-95c1-5c08755c6574",
   "metadata": {},
   "outputs": [
    {
     "name": "stdout",
     "output_type": "stream",
     "text": [
      "                  Candy   Flowers   Jewelry  GreetingCards  EveningOut  \\\n",
      "Candy          1.000000  0.872253  0.816683       0.539737    0.403856   \n",
      "Flowers        0.872253  1.000000  0.886656       0.438297    0.488140   \n",
      "Jewelry        0.816683  0.886656  1.000000       0.398171    0.651477   \n",
      "GreetingCards  0.539737  0.438297  0.398171       1.000000    0.328747   \n",
      "EveningOut     0.403856  0.488140  0.651477       0.328747    1.000000   \n",
      "Clothing       0.929729  0.868605  0.761607       0.463964    0.298995   \n",
      "GiftCards      0.832338  0.703213  0.719936       0.492484    0.264857   \n",
      "\n",
      "               Clothing  GiftCards  \n",
      "Candy          0.929729   0.832338  \n",
      "Flowers        0.868605   0.703213  \n",
      "Jewelry        0.761607   0.719936  \n",
      "GreetingCards  0.463964   0.492484  \n",
      "EveningOut     0.298995   0.264857  \n",
      "Clothing       1.000000   0.911497  \n",
      "GiftCards      0.911497   1.000000  \n"
     ]
    },
    {
     "data": {
      "image/png": "[encoded data removed]",
      "text/plain": [
       "<Figure size 1000x800 with 2 Axes>"
      ]
     },
     "metadata": {},
     "output_type": "display_data"
    }
   ],
   "source": [
    "#Correlationmatrix/-heatmap\n",
    "\n",
    "df.drop(['Year', 'PerPerson', 'PercentCelebrating'], axis=1, inplace=True)\n",
    "\n",
    "correlation_matrix = df.corr()\n",
    "\n",
    "print(correlation_matrix)\n",
    "\n",
    "plt.figure(figsize=(10, 8))\n",
    "sns.heatmap(correlation_matrix, annot=True, cmap='coolwarm', fmt=\".2f\", linewidths=.5)\n",
    "plt.title('Correlation Heatmap')\n",
    "plt.show()"
   ]
  },
  {
   "cell_type": "code",
   "execution_count": 8,
   "id": "fe2909be",
   "metadata": {},
   "outputs": [
    {
     "name": "stdout",
     "output_type": "stream",
     "text": [
      "Missing values per column:\n",
      "Candy            0\n",
      "Flowers          0\n",
      "Jewelry          0\n",
      "GreetingCards    0\n",
      "EveningOut       0\n",
      "Clothing         0\n",
      "GiftCards        0\n",
      "dtype: int64\n"
     ]
    }
   ],
   "source": [
    "#Verification of data quality\n",
    "\n",
    "missing_values = df.isnull().sum()\n",
    "\n",
    "print(\"Missing values per column:\")\n",
    "print(missing_values)"
   ]
  },
  {
   "cell_type": "markdown",
   "id": "2c10ed49",
   "metadata": {},
   "source": [
    "Die Histogrammanalyse bietet Einblicke in die Ausgabenverteilung für verschiedene Produkte im Datensatz. Die Daten sind um einen Mittelwert zentriert und gleichmäßig verteilt, was auf eine ausgewogene Datenverteilung hinweist. Es gibt keine klare Tendenz zur Erhöhung oder Senkung der Durchschnittswerte."
   ]
  },
  {
   "cell_type": "code",
   "execution_count": 39,
   "id": "65156e4f",
   "metadata": {},
   "outputs": [
    {
     "data": {
      "image/png": "[encoded data removed]",
      "text/plain": [
       "<Figure size 1600x800 with 12 Axes>"
      ]
     },
     "metadata": {},
     "output_type": "display_data"
    }
   ],
   "source": [
    "features = df.columns[1:]\n",
    "num_features = len(features)\n",
    "num_rows = math.ceil(num_features / 4)\n",
    "num_cols = min(num_features, 4)\n",
    "\n",
    "fig, axs = plt.subplots(num_rows, num_cols, figsize=(16, 8))\n",
    "axs = axs.flatten()\n",
    "\n",
    "for i, feature in enumerate(features):\n",
    "    sns.histplot(df[feature], kde=True, ax=axs[i])\n",
    "    axs[i].set_title(f'Verteilung von {feature}')\n",
    "    axs[i].set_xlabel(feature)\n",
    "    axs[i].set_ylabel('Anzahl')\n",
    "\n",
    "# Verbleibende Subplots entfernen\n",
    "for j in range(i+1, len(axs)):\n",
    "    axs[j].axis('off')\n",
    "\n",
    "plt.tight_layout()\n",
    "plt.show()"
   ]
  },
  {
   "cell_type": "code",
   "execution_count": 10,
   "id": "a1bba2ed",
   "metadata": {},
   "outputs": [],
   "source": [
    "df = pd.read_csv('historical_spending.csv')"
   ]
  },
  {
   "cell_type": "markdown",
   "id": "f209d35e",
   "metadata": {},
   "source": [
    "Der Boxplot dient der Erkennung potenzieller Ausreißer in den Daten. Es wurden keine signifikanten Ausreißer identifiziert. Die Ausgaben für Jewelry sind leicht höher, jedoch nicht signifikant unterschiedlich."
   ]
  },
  {
   "cell_type": "code",
   "execution_count": 11,
   "id": "786d42ef",
   "metadata": {},
   "outputs": [
    {
     "data": {
      "image/png": "[encoded data removed]",
      "text/plain": [
       "<Figure size 1200x800 with 1 Axes>"
      ]
     },
     "metadata": {},
     "output_type": "display_data"
    }
   ],
   "source": [
    "#Representation of strongly deviating elements of the data set\n",
    "\n",
    "df.drop([ 'PerPerson', 'PercentCelebrating'], axis=1, inplace=True)\n",
    "\n",
    "plt.figure(figsize=(12, 8))\n",
    "sns.boxplot(data=df.drop(['Year'], axis=1))\n",
    "plt.title('Boxplot of numerical variables')\n",
    "plt.xticks(rotation=45)\n",
    "plt.show()\n"
   ]
  },
  {
   "cell_type": "markdown",
   "id": "5ee5705c",
   "metadata": {},
   "source": [
    "Die historischen Ausgaben von 2010 bis 2022 wurden untersucht und die prozentuale Veränderung zum Vorjahr berechnet. Die Untersuchung der Trends über die Zeit hinweg kann wertvolle Einblicke in die Veränderungen im Verbraucherverhalten und in die Entwicklung der Ausgabenmuster im Laufe der Jahre liefern."
   ]
  },
  {
   "cell_type": "code",
   "execution_count": 12,
   "id": "98981ca3",
   "metadata": {},
   "outputs": [
    {
     "data": {
      "text/html": [
       "<style type=\"text/css\">\n",
       "#T_3346a tr:nth-of-type(odd) {\n",
       "  background-color: #5F6363;\n",
       "}\n",
       "#T_3346a tr:nth-of-type(even) {\n",
       "  background-color: #9D9D9D;\n",
       "}\n",
       "#T_3346a thead th {\n",
       "  background-color: #98DAB7;\n",
       "  color: #ffffff;\n",
       "}\n",
       "#T_3346a th {\n",
       "  border-bottom: 1px solid #100F0F;\n",
       "}\n",
       "#T_3346a  td {\n",
       "  border-bottom: 1px solid #100F0F;\n",
       "}\n",
       "#T_3346a  {\n",
       "  font-family: Arial, sans-serif;\n",
       "  font-size: 13px;\n",
       "}\n",
       "#T_3346a  {\n",
       "  text-align: right;\n",
       "}\n",
       "</style>\n",
       "<table id=\"T_3346a\">\n",
       "  <thead>\n",
       "    <tr>\n",
       "      <th class=\"index_name level0\" >Year</th>\n",
       "      <th id=\"T_3346a_level0_col0\" class=\"col_heading level0 col0\" >2010</th>\n",
       "      <th id=\"T_3346a_level0_col1\" class=\"col_heading level0 col1\" >2011</th>\n",
       "      <th id=\"T_3346a_level0_col2\" class=\"col_heading level0 col2\" >2012</th>\n",
       "      <th id=\"T_3346a_level0_col3\" class=\"col_heading level0 col3\" >2013</th>\n",
       "      <th id=\"T_3346a_level0_col4\" class=\"col_heading level0 col4\" >2014</th>\n",
       "      <th id=\"T_3346a_level0_col5\" class=\"col_heading level0 col5\" >2015</th>\n",
       "      <th id=\"T_3346a_level0_col6\" class=\"col_heading level0 col6\" >2016</th>\n",
       "      <th id=\"T_3346a_level0_col7\" class=\"col_heading level0 col7\" >2017</th>\n",
       "      <th id=\"T_3346a_level0_col8\" class=\"col_heading level0 col8\" >2018</th>\n",
       "      <th id=\"T_3346a_level0_col9\" class=\"col_heading level0 col9\" >2019</th>\n",
       "      <th id=\"T_3346a_level0_col10\" class=\"col_heading level0 col10\" >2020</th>\n",
       "      <th id=\"T_3346a_level0_col11\" class=\"col_heading level0 col11\" >2021</th>\n",
       "      <th id=\"T_3346a_level0_col12\" class=\"col_heading level0 col12\" >2022</th>\n",
       "    </tr>\n",
       "  </thead>\n",
       "  <tbody>\n",
       "    <tr>\n",
       "      <th id=\"T_3346a_level0_row0\" class=\"row_heading level0 row0\" >PercentChange</th>\n",
       "      <td id=\"T_3346a_row0_col0\" class=\"data row0 col0\" >nan</td>\n",
       "      <td id=\"T_3346a_row0_col1\" class=\"data row0 col1\" >12.83</td>\n",
       "      <td id=\"T_3346a_row0_col2\" class=\"data row0 col2\" >8.45</td>\n",
       "      <td id=\"T_3346a_row0_col3\" class=\"data row0 col3\" >3.92</td>\n",
       "      <td id=\"T_3346a_row0_col4\" class=\"data row0 col4\" >2.24</td>\n",
       "      <td id=\"T_3346a_row0_col5\" class=\"data row0 col5\" >6.27</td>\n",
       "      <td id=\"T_3346a_row0_col6\" class=\"data row0 col6\" >3.18</td>\n",
       "      <td id=\"T_3346a_row0_col7\" class=\"data row0 col7\" >-6.99</td>\n",
       "      <td id=\"T_3346a_row0_col8\" class=\"data row0 col8\" >5.12</td>\n",
       "      <td id=\"T_3346a_row0_col9\" class=\"data row0 col9\" >12.82</td>\n",
       "      <td id=\"T_3346a_row0_col10\" class=\"data row0 col10\" >21.21</td>\n",
       "      <td id=\"T_3346a_row0_col11\" class=\"data row0 col11\" >-16.07</td>\n",
       "      <td id=\"T_3346a_row0_col12\" class=\"data row0 col12\" >6.46</td>\n",
       "    </tr>\n",
       "    <tr>\n",
       "      <th id=\"T_3346a_level0_row1\" class=\"row_heading level0 row1\" >PercentCelebrating</th>\n",
       "      <td id=\"T_3346a_row1_col0\" class=\"data row1 col0\" >60.00</td>\n",
       "      <td id=\"T_3346a_row1_col1\" class=\"data row1 col1\" >58.00</td>\n",
       "      <td id=\"T_3346a_row1_col2\" class=\"data row1 col2\" >59.00</td>\n",
       "      <td id=\"T_3346a_row1_col3\" class=\"data row1 col3\" >60.00</td>\n",
       "      <td id=\"T_3346a_row1_col4\" class=\"data row1 col4\" >54.00</td>\n",
       "      <td id=\"T_3346a_row1_col5\" class=\"data row1 col5\" >55.00</td>\n",
       "      <td id=\"T_3346a_row1_col6\" class=\"data row1 col6\" >55.00</td>\n",
       "      <td id=\"T_3346a_row1_col7\" class=\"data row1 col7\" >54.00</td>\n",
       "      <td id=\"T_3346a_row1_col8\" class=\"data row1 col8\" >55.00</td>\n",
       "      <td id=\"T_3346a_row1_col9\" class=\"data row1 col9\" >51.00</td>\n",
       "      <td id=\"T_3346a_row1_col10\" class=\"data row1 col10\" >55.00</td>\n",
       "      <td id=\"T_3346a_row1_col11\" class=\"data row1 col11\" >52.00</td>\n",
       "      <td id=\"T_3346a_row1_col12\" class=\"data row1 col12\" >53.00</td>\n",
       "    </tr>\n",
       "    <tr>\n",
       "      <th id=\"T_3346a_level0_row2\" class=\"row_heading level0 row2\" >PerPerson</th>\n",
       "      <td id=\"T_3346a_row2_col0\" class=\"data row2 col0\" >103.00</td>\n",
       "      <td id=\"T_3346a_row2_col1\" class=\"data row2 col1\" >116.21</td>\n",
       "      <td id=\"T_3346a_row2_col2\" class=\"data row2 col2\" >126.03</td>\n",
       "      <td id=\"T_3346a_row2_col3\" class=\"data row2 col3\" >130.97</td>\n",
       "      <td id=\"T_3346a_row2_col4\" class=\"data row2 col4\" >133.91</td>\n",
       "      <td id=\"T_3346a_row2_col5\" class=\"data row2 col5\" >142.31</td>\n",
       "      <td id=\"T_3346a_row2_col6\" class=\"data row2 col6\" >146.84</td>\n",
       "      <td id=\"T_3346a_row2_col7\" class=\"data row2 col7\" >136.57</td>\n",
       "      <td id=\"T_3346a_row2_col8\" class=\"data row2 col8\" >143.56</td>\n",
       "      <td id=\"T_3346a_row2_col9\" class=\"data row2 col9\" >161.96</td>\n",
       "      <td id=\"T_3346a_row2_col10\" class=\"data row2 col10\" >196.31</td>\n",
       "      <td id=\"T_3346a_row2_col11\" class=\"data row2 col11\" >164.76</td>\n",
       "      <td id=\"T_3346a_row2_col12\" class=\"data row2 col12\" >175.41</td>\n",
       "    </tr>\n",
       "    <tr>\n",
       "      <th id=\"T_3346a_level0_row3\" class=\"row_heading level0 row3\" >Jewelry</th>\n",
       "      <td id=\"T_3346a_row3_col0\" class=\"data row3 col0\" >21.52</td>\n",
       "      <td id=\"T_3346a_row3_col1\" class=\"data row3 col1\" >26.18</td>\n",
       "      <td id=\"T_3346a_row3_col2\" class=\"data row3 col2\" >29.60</td>\n",
       "      <td id=\"T_3346a_row3_col3\" class=\"data row3 col3\" >30.94</td>\n",
       "      <td id=\"T_3346a_row3_col4\" class=\"data row3 col4\" >30.58</td>\n",
       "      <td id=\"T_3346a_row3_col5\" class=\"data row3 col5\" >36.30</td>\n",
       "      <td id=\"T_3346a_row3_col6\" class=\"data row3 col6\" >33.11</td>\n",
       "      <td id=\"T_3346a_row3_col7\" class=\"data row3 col7\" >32.32</td>\n",
       "      <td id=\"T_3346a_row3_col8\" class=\"data row3 col8\" >34.10</td>\n",
       "      <td id=\"T_3346a_row3_col9\" class=\"data row3 col9\" >30.34</td>\n",
       "      <td id=\"T_3346a_row3_col10\" class=\"data row3 col10\" >41.65</td>\n",
       "      <td id=\"T_3346a_row3_col11\" class=\"data row3 col11\" >30.71</td>\n",
       "      <td id=\"T_3346a_row3_col12\" class=\"data row3 col12\" >45.75</td>\n",
       "    </tr>\n",
       "    <tr>\n",
       "      <th id=\"T_3346a_level0_row4\" class=\"row_heading level0 row4\" >GreetingCards</th>\n",
       "      <td id=\"T_3346a_row4_col0\" class=\"data row4 col0\" >5.91</td>\n",
       "      <td id=\"T_3346a_row4_col1\" class=\"data row4 col1\" >8.09</td>\n",
       "      <td id=\"T_3346a_row4_col2\" class=\"data row4 col2\" >6.93</td>\n",
       "      <td id=\"T_3346a_row4_col3\" class=\"data row4 col3\" >8.32</td>\n",
       "      <td id=\"T_3346a_row4_col4\" class=\"data row4 col4\" >7.97</td>\n",
       "      <td id=\"T_3346a_row4_col5\" class=\"data row4 col5\" >7.87</td>\n",
       "      <td id=\"T_3346a_row4_col6\" class=\"data row4 col6\" >8.52</td>\n",
       "      <td id=\"T_3346a_row4_col7\" class=\"data row4 col7\" >7.36</td>\n",
       "      <td id=\"T_3346a_row4_col8\" class=\"data row4 col8\" >6.55</td>\n",
       "      <td id=\"T_3346a_row4_col9\" class=\"data row4 col9\" >7.31</td>\n",
       "      <td id=\"T_3346a_row4_col10\" class=\"data row4 col10\" >9.01</td>\n",
       "      <td id=\"T_3346a_row4_col11\" class=\"data row4 col11\" >8.48</td>\n",
       "      <td id=\"T_3346a_row4_col12\" class=\"data row4 col12\" >7.47</td>\n",
       "    </tr>\n",
       "    <tr>\n",
       "      <th id=\"T_3346a_level0_row5\" class=\"row_heading level0 row5\" >GiftCards</th>\n",
       "      <td id=\"T_3346a_row5_col0\" class=\"data row5 col0\" >8.42</td>\n",
       "      <td id=\"T_3346a_row5_col1\" class=\"data row5 col1\" >11.21</td>\n",
       "      <td id=\"T_3346a_row5_col2\" class=\"data row5 col2\" >8.43</td>\n",
       "      <td id=\"T_3346a_row5_col3\" class=\"data row5 col3\" >10.23</td>\n",
       "      <td id=\"T_3346a_row5_col4\" class=\"data row5 col4\" >9.00</td>\n",
       "      <td id=\"T_3346a_row5_col5\" class=\"data row5 col5\" >11.05</td>\n",
       "      <td id=\"T_3346a_row5_col6\" class=\"data row5 col6\" >12.52</td>\n",
       "      <td id=\"T_3346a_row5_col7\" class=\"data row5 col7\" >10.23</td>\n",
       "      <td id=\"T_3346a_row5_col8\" class=\"data row5 col8\" >11.04</td>\n",
       "      <td id=\"T_3346a_row5_col9\" class=\"data row5 col9\" >10.31</td>\n",
       "      <td id=\"T_3346a_row5_col10\" class=\"data row5 col10\" >14.21</td>\n",
       "      <td id=\"T_3346a_row5_col11\" class=\"data row5 col11\" >15.67</td>\n",
       "      <td id=\"T_3346a_row5_col12\" class=\"data row5 col12\" >17.22</td>\n",
       "    </tr>\n",
       "    <tr>\n",
       "      <th id=\"T_3346a_level0_row6\" class=\"row_heading level0 row6\" >Flowers</th>\n",
       "      <td id=\"T_3346a_row6_col0\" class=\"data row6 col0\" >12.33</td>\n",
       "      <td id=\"T_3346a_row6_col1\" class=\"data row6 col1\" >12.62</td>\n",
       "      <td id=\"T_3346a_row6_col2\" class=\"data row6 col2\" >13.49</td>\n",
       "      <td id=\"T_3346a_row6_col3\" class=\"data row6 col3\" >13.48</td>\n",
       "      <td id=\"T_3346a_row6_col4\" class=\"data row6 col4\" >15.00</td>\n",
       "      <td id=\"T_3346a_row6_col5\" class=\"data row6 col5\" >15.72</td>\n",
       "      <td id=\"T_3346a_row6_col6\" class=\"data row6 col6\" >14.78</td>\n",
       "      <td id=\"T_3346a_row6_col7\" class=\"data row6 col7\" >14.63</td>\n",
       "      <td id=\"T_3346a_row6_col8\" class=\"data row6 col8\" >14.75</td>\n",
       "      <td id=\"T_3346a_row6_col9\" class=\"data row6 col9\" >15.07</td>\n",
       "      <td id=\"T_3346a_row6_col10\" class=\"data row6 col10\" >16.49</td>\n",
       "      <td id=\"T_3346a_row6_col11\" class=\"data row6 col11\" >15.42</td>\n",
       "      <td id=\"T_3346a_row6_col12\" class=\"data row6 col12\" >16.71</td>\n",
       "    </tr>\n",
       "    <tr>\n",
       "      <th id=\"T_3346a_level0_row7\" class=\"row_heading level0 row7\" >EveningOut</th>\n",
       "      <td id=\"T_3346a_row7_col0\" class=\"data row7 col0\" >23.76</td>\n",
       "      <td id=\"T_3346a_row7_col1\" class=\"data row7 col1\" >24.86</td>\n",
       "      <td id=\"T_3346a_row7_col2\" class=\"data row7 col2\" >25.66</td>\n",
       "      <td id=\"T_3346a_row7_col3\" class=\"data row7 col3\" >27.93</td>\n",
       "      <td id=\"T_3346a_row7_col4\" class=\"data row7 col4\" >27.48</td>\n",
       "      <td id=\"T_3346a_row7_col5\" class=\"data row7 col5\" >27.27</td>\n",
       "      <td id=\"T_3346a_row7_col6\" class=\"data row7 col6\" >33.46</td>\n",
       "      <td id=\"T_3346a_row7_col7\" class=\"data row7 col7\" >28.46</td>\n",
       "      <td id=\"T_3346a_row7_col8\" class=\"data row7 col8\" >26.96</td>\n",
       "      <td id=\"T_3346a_row7_col9\" class=\"data row7 col9\" >27.72</td>\n",
       "      <td id=\"T_3346a_row7_col10\" class=\"data row7 col10\" >30.78</td>\n",
       "      <td id=\"T_3346a_row7_col11\" class=\"data row7 col11\" >21.39</td>\n",
       "      <td id=\"T_3346a_row7_col12\" class=\"data row7 col12\" >31.35</td>\n",
       "    </tr>\n",
       "    <tr>\n",
       "      <th id=\"T_3346a_level0_row8\" class=\"row_heading level0 row8\" >Clothing</th>\n",
       "      <td id=\"T_3346a_row8_col0\" class=\"data row8 col0\" >10.93</td>\n",
       "      <td id=\"T_3346a_row8_col1\" class=\"data row8 col1\" >12.00</td>\n",
       "      <td id=\"T_3346a_row8_col2\" class=\"data row8 col2\" >10.42</td>\n",
       "      <td id=\"T_3346a_row8_col3\" class=\"data row8 col3\" >11.46</td>\n",
       "      <td id=\"T_3346a_row8_col4\" class=\"data row8 col4\" >13.37</td>\n",
       "      <td id=\"T_3346a_row8_col5\" class=\"data row8 col5\" >14.72</td>\n",
       "      <td id=\"T_3346a_row8_col6\" class=\"data row8 col6\" >15.05</td>\n",
       "      <td id=\"T_3346a_row8_col7\" class=\"data row8 col7\" >13.91</td>\n",
       "      <td id=\"T_3346a_row8_col8\" class=\"data row8 col8\" >14.04</td>\n",
       "      <td id=\"T_3346a_row8_col9\" class=\"data row8 col9\" >16.08</td>\n",
       "      <td id=\"T_3346a_row8_col10\" class=\"data row8 col10\" >20.67</td>\n",
       "      <td id=\"T_3346a_row8_col11\" class=\"data row8 col11\" >20.05</td>\n",
       "      <td id=\"T_3346a_row8_col12\" class=\"data row8 col12\" >21.46</td>\n",
       "    </tr>\n",
       "    <tr>\n",
       "      <th id=\"T_3346a_level0_row9\" class=\"row_heading level0 row9\" >Candy</th>\n",
       "      <td id=\"T_3346a_row9_col0\" class=\"data row9 col0\" >8.60</td>\n",
       "      <td id=\"T_3346a_row9_col1\" class=\"data row9 col1\" >10.75</td>\n",
       "      <td id=\"T_3346a_row9_col2\" class=\"data row9 col2\" >10.85</td>\n",
       "      <td id=\"T_3346a_row9_col3\" class=\"data row9 col3\" >11.64</td>\n",
       "      <td id=\"T_3346a_row9_col4\" class=\"data row9 col4\" >10.80</td>\n",
       "      <td id=\"T_3346a_row9_col5\" class=\"data row9 col5\" >12.70</td>\n",
       "      <td id=\"T_3346a_row9_col6\" class=\"data row9 col6\" >13.11</td>\n",
       "      <td id=\"T_3346a_row9_col7\" class=\"data row9 col7\" >12.68</td>\n",
       "      <td id=\"T_3346a_row9_col8\" class=\"data row9 col8\" >13.12</td>\n",
       "      <td id=\"T_3346a_row9_col9\" class=\"data row9 col9\" >14.12</td>\n",
       "      <td id=\"T_3346a_row9_col10\" class=\"data row9 col10\" >17.30</td>\n",
       "      <td id=\"T_3346a_row9_col11\" class=\"data row9 col11\" >15.32</td>\n",
       "      <td id=\"T_3346a_row9_col12\" class=\"data row9 col12\" >15.90</td>\n",
       "    </tr>\n",
       "  </tbody>\n",
       "</table>\n"
      ],
      "text/plain": [
       "<pandas.io.formats.style.Styler at 0x17f026920>"
      ]
     },
     "execution_count": 12,
     "metadata": {},
     "output_type": "execute_result"
    }
   ],
   "source": [
    "#Table showing the years and the increase in purchasing behaviour\n",
    "\n",
    "df = pd.read_csv('historical_spending.csv')\n",
    "\n",
    "df.sort_values(by='Year', inplace=True)\n",
    "\n",
    "df['PercentChange'] = df['PerPerson'].pct_change() * 100\n",
    "\n",
    "df_transposed = df.set_index('Year').T.sort_index(ascending=False)\n",
    "\n",
    "#define style for the table\n",
    "styles = [\n",
    "    {'selector': 'tr:nth-of-type(odd)', 'props': 'background-color: #5F6363;'},\n",
    "    {'selector': 'tr:nth-of-type(even)', 'props': 'background-color: #9D9D9D;'},\n",
    "    {'selector': 'thead th', 'props': 'background-color: #98DAB7; color: #ffffff;'},\n",
    "    {'selector': 'th, td', 'props': 'border-bottom: 1px solid #100F0F;'},\n",
    "    {'selector': '', 'props': 'font-family: Arial, sans-serif; font-size: 13px;'},\n",
    "    {'selector': '', 'props': 'text-align: right;'}\n",
    "]\n",
    "\n",
    "df_style = df_transposed.style.set_table_styles(styles).format('{:.2f}')\n",
    "df_style\n",
    "\n",
    "\n",
    "\n"
   ]
  },
  {
   "cell_type": "markdown",
   "id": "71ed16cb",
   "metadata": {},
   "source": [
    "### Logistische Regression\n",
    "\n",
    "Die Erstellung der logistischen Regression funktioniert hierbei leider nicht, da die zweite Geschlechterklasse der ``gifts_gender.csv`` nicht erkannt wird. Dies ist von Bedeutung, da pro Klasse mindestens zwei Kategorien vorhanden sein müssen. Somit wurde dieser Ansatz nicht weiter verfolgt und sich ein anderer Ansatz herausgesucht. Schließlich wurde dem folgende Ansatz nachgegangen: Eine Vorhersage, die die Entwicklung des Kaufverhaltens anhand der bestehenden Daten für das Jahr 2023 trifft, bestimmen kann. "
   ]
  },
  {
   "cell_type": "markdown",
   "id": "541a9dec",
   "metadata": {},
   "source": [
    "### Neuer Projektansatz\n",
    "\n",
    "Durch die Datensatzgröße birgt zudem das Risiko von Multikollinearität und Overfitting. Deshalb wird die Anwendung eines geeigneten Regressionsmodells, wie lineare Regression, Random Forest Regression sowie der XGBoost verfolgt. Die Interpretation der Vorhersagen werden mit Vorsicht getroffen, da die Genauigkeit aufgrund der beschränkten Datenmenge eingeschränkt ist."
   ]
  },
  {
   "cell_type": "markdown",
   "id": "c2d5431e",
   "metadata": {},
   "source": [
    "### RandomForestRegressor"
   ]
  },
  {
   "cell_type": "markdown",
   "id": "9c9f799c",
   "metadata": {},
   "source": [
    "Der RandomForestRegressor wurde wegen seiner Robustheit gegen Overfitting und seiner Anpassungsfähigkeit an kleine Datensätze gewählt. Trotz der begrenzten Datenmenge zeigt der MSE von 305.78 eine moderate Genauigkeit des Modells. Mit einem R² Score von 0.622 werden etwa 62,2% der Variabilität in den 'PerPerson'-Ausgaben erklärt. Zusätzlich zu MSE und R² wurden der Mean Absolute Error und der Root Mean Squared Error als weitere Metriken verwendet."
   ]
  },
  {
   "cell_type": "code",
   "execution_count": 13,
   "id": "695b3299",
   "metadata": {},
   "outputs": [
    {
     "name": "stdout",
     "output_type": "stream",
     "text": [
      "Mean Squared Error: 300.7373323533333\n",
      "R² Score: 0.6291476390969706\n"
     ]
    }
   ],
   "source": [
    "#RandomForestRegressor model to predict purchasing behavior for the year 2023\n",
    "\n",
    "X = df.drop(['Year', 'PerPerson'], axis=1)  # 'Year' und 'PerPerson' als Features entfernen\n",
    "y = df['PerPerson']  # 'PerPerson' als Zielvariable\n",
    "\n",
    "#train-/test split\n",
    "X_train, X_test, y_train, y_test = train_test_split(X, y, test_size=0.2, random_state=42)\n",
    "\n",
    "# RandomForestRegressor instantiate and adapt\n",
    "rf = RandomForestRegressor(n_estimators=100, random_state=42)\n",
    "rf.fit(X_train, y_train)\n",
    "\n",
    "y_pred = rf.predict(X_test)\n",
    "\n",
    "#metrics\n",
    "mse = mean_squared_error(y_test, y_pred)\n",
    "r2 = r2_score(y_test, y_pred)\n",
    "\n",
    "print(f'Mean Squared Error: {mse}')\n",
    "print(f'R² Score: {r2}')\n",
    "\n"
   ]
  },
  {
   "cell_type": "markdown",
   "id": "279328b7",
   "metadata": {},
   "source": [
    "*Durch eine Grid-Suche zur Optimierung der Hyperparameter des RandomForestRegressor wurden spezifische Parameter festgelegt. Das optimierte Modell wurde mit Trainingsdaten bis 2020 trainiert und auf Testdaten für 2021 und 2022 evaluiert. Es zeigte verbesserte Leistungen. Diese Ergebnisse wurden in einem ML Lifecycle Management Report festgehalten, der für zukünftige Referenzen oder zur Dokumentation des Modells als JSON-Datei gespeichert wurde.*"
   ]
  },
  {
   "cell_type": "markdown",
   "id": "0d65535f",
   "metadata": {},
   "source": [
    "In der implementierten RandomForestRegressor-Lösung wird ein GridSearch für die Optimierung der Hyperparameter durchgeführt.  Die Verwendung eines solchen Datensatzes kann die Zuverlässigkeit des GridSearch beeinträchtigen, da der Trainingsdatensatz auf älteren Daten basiert und der Testdatensatz möglicherweise nicht repräsentativ für zukünftige Daten ist. Aufgrund des kleinen Datensatzes und der Hyperparameter-Kombinationen besteht die Gefahr des Overfittings. Die Ergebnisse des GridSearch können instabil sein und stark von der spezifischen Auswahl der Trainings- und Testdaten abhängen. In diesem Fall ist die maximale Baumtiefe 10 aufgrund der begrenzten Trainingsdaten so gering ausgefallen. Ein niedrigerer `min_samples_leaf` sowie `min_samples_split` ermöglicht zwar ein genaueres Modell, kann dazu führen, dass das Modell sich zu stark an die vorhandenen Daten anpasst und die Generalisierungsfähigkeit verliert. Die Modellbewertung basiert auf mehreren Metriken wie MSE, RMSE, R² und MAE. Bei einem kleinen Datensatz können diese Metriken unzuverlässig sein und die tatsächliche Leistung des Modells möglicherweise nicht genau widerspiegeln. Die berechneten Werte werden im ML-Lifecycle Management Report als JSON-Datei gespeichert."
   ]
  },
  {
   "cell_type": "code",
   "execution_count": 14,
   "id": "e280149b",
   "metadata": {},
   "outputs": [
    {
     "name": "stdout",
     "output_type": "stream",
     "text": [
      "Fitting 5 folds for each of 144 candidates, totalling 720 fits\n",
      "Beste Hyperparameter: {'max_depth': 10, 'min_samples_leaf': 1, 'min_samples_split': 2, 'n_estimators': 100}\n",
      "Bestes Modell wurde als 'best_rf_model_20240412142951.pkl' gespeichert.\n",
      "Mean Squared Error (MSE): 0.783651845000238\n",
      "Root Mean Squared Error (RMSE): 0.8852411225198692\n",
      "R² Score: 0.9723634430558227\n",
      "Mean Absolute Error (MAE): 0.7343500000000205\n"
     ]
    }
   ],
   "source": [
    "#RandomForestRegression\n",
    "\n",
    "df = pd.read_csv('historical_spending.csv')\n",
    "\n",
    "#define features and target variables\n",
    "X = df.drop(['Year', 'PerPerson'], axis=1)\n",
    "y = df['PerPerson']\n",
    "\n",
    "#teyt-/train split (test data only for the years 2021 and 2022)\n",
    "X_train = X[df['Year'] < 2021]\n",
    "X_test = X[df['Year'] >= 2021]\n",
    "y_train = y[df['Year'] < 2021]\n",
    "y_test = y[df['Year'] >= 2021]\n",
    "\n",
    "param_grid = {\n",
    "'n_estimators': [50, 100, 200, 250],\n",
    "    'max_depth': [ 10, 20, 30, 40],\n",
    "    'min_samples_split': [2, 5, 10],\n",
    "    'min_samples_leaf': [1, 2, 4]\n",
    "}\n",
    "\n",
    "rf = RandomForestRegressor(random_state=42)\n",
    "grid_search = GridSearchCV(rf, param_grid, cv=5, scoring='neg_mean_squared_error', verbose=1)\n",
    "\n",
    "#training\n",
    "grid_search.fit(X_train, y_train)\n",
    "\n",
    "#best hyperparameter\n",
    "best_params = grid_search.best_params_\n",
    "print(f\"Beste Hyperparameter: {best_params}\")\n",
    "\n",
    "timestamp = datetime.datetime.now().strftime('%Y%m%d%H%M%S')\n",
    "model_filename = f\"best_rf_model_{timestamp}.pkl\"\n",
    "joblib.dump(grid_search.best_estimator_, model_filename)\n",
    "print(f\"Bestes Modell wurde als '{model_filename}' gespeichert.\")\n",
    "\n",
    "#model assessment\n",
    "y_pred = grid_search.predict(X_test)\n",
    "mse = mean_squared_error(y_test, y_pred)\n",
    "rmse = np.sqrt(mse)\n",
    "r2 = r2_score(y_test, y_pred)\n",
    "mae = mean_absolute_error(y_test, y_pred)\n",
    "\n",
    "print(f'Mean Squared Error (MSE): {mse}')\n",
    "print(f'Root Mean Squared Error (RMSE): {rmse}')\n",
    "print(f'R² Score: {r2}')\n",
    "print(f'Mean Absolute Error (MAE): {mae}')\n",
    "\n",
    "report = {\n",
    "    \"Date\": timestamp,\n",
    "    \"Model\": \"RandomForestRegressor\",\n",
    "    \"Best Parameters\": best_params,\n",
    "    \"Mean Squared Error\": mse,\n",
    "    \"Root Mean Squared Error\": rmse,\n",
    "    \"R² Score\": r2\n",
    "}\n",
    "\n",
    "#save report as JSON file\n",
    "report_filename = f\"ml_lifecycle_report_{timestamp}.json\"\n",
    "with open(report_filename, 'w') as f:\n",
    "    json.dump(report, f)\n",
    "\n"
   ]
  },
  {
   "cell_type": "markdown",
   "id": "e36b5e00",
   "metadata": {},
   "source": [
    "*Im nächsten Schritt haben wir das optimierte RandomForestRegressor-Modell verwendet, um Vorhersagen für die Ausgaben ``PerPerson`` für die Jahre 2021 und 2022 zu treffen.*"
   ]
  },
  {
   "cell_type": "markdown",
   "id": "46f70a87",
   "metadata": {},
   "source": [
    "In diesem Abschnitt wird der RandomForestRegressor mit den ermittelten Hyperparametern trainiert und bewertet. Die Vorhersagefunktion ermöglicht Vorhersagen für die Jahre 2021 und 2022 basierend auf den durchschnittlichen Werten der Features für diese Jahre. Aufgrund des kleinen und begrenzten Datensatzes sollten die Vorhersagen und die Modellbewertung mit Vorsicht interpretiert werden."
   ]
  },
  {
   "cell_type": "code",
   "execution_count": 15,
   "id": "b3aec53d",
   "metadata": {},
   "outputs": [
    {
     "name": "stdout",
     "output_type": "stream",
     "text": [
      "Fitting 5 folds for each of 1 candidates, totalling 5 fits\n",
      "\n",
      "Prediction for the year 2021: 165.13240000000008\n",
      "PercentCelebrating: 52.0\n",
      "Candy: 15.32\n",
      "Flowers: 15.42\n",
      "Jewelry: 30.71\n",
      "GreetingCards: 8.48\n",
      "EveningOut: 21.39\n",
      "Clothing: 20.05\n",
      "GiftCards: 15.67\n",
      "\n",
      "Prediction for the year 2022: 174.7046999999999\n",
      "PercentCelebrating: 53.0\n",
      "Candy: 15.9\n",
      "Flowers: 16.71\n",
      "Jewelry: 45.75\n",
      "GreetingCards: 7.47\n",
      "EveningOut: 31.35\n",
      "Clothing: 21.46\n",
      "GiftCards: 17.22\n"
     ]
    }
   ],
   "source": [
    "#Hyperparamter tuning with GridSearchCV\n",
    "\n",
    "X = df.drop(['Year', 'PerPerson'], axis=1)\n",
    "y = df['PerPerson']\n",
    "\n",
    "param_grid = {\n",
    "    'n_estimators': [100],\n",
    "    'max_depth': [10],\n",
    "    'min_samples_split': [2],\n",
    "    'min_samples_leaf': [1]\n",
    "}\n",
    "\n",
    "rf = RandomForestRegressor(random_state=42)\n",
    "grid_search = GridSearchCV(rf, param_grid, cv=5, scoring='neg_mean_squared_error', verbose=1)\n",
    "\n",
    "grid_search.fit(X, y)\n",
    "\n",
    "best_params = grid_search.best_params_\n",
    "\n",
    "rf_best = grid_search.best_estimator_\n",
    "\n",
    "#prediction function for a specific year\n",
    "def predict_year(year):\n",
    "    features = {\n",
    "        'PercentCelebrating': df[df['Year'] == year]['PercentCelebrating'].mean(),\n",
    "        'Candy': df[df['Year'] == year]['Candy'].mean(),\n",
    "        'Flowers': df[df['Year'] == year]['Flowers'].mean(),\n",
    "        'Jewelry': df[df['Year'] == year]['Jewelry'].mean(),\n",
    "        'GreetingCards': df[df['Year'] == year]['GreetingCards'].mean(),\n",
    "        'EveningOut': df[df['Year'] == year]['EveningOut'].mean(),\n",
    "        'Clothing': df[df['Year'] == year]['Clothing'].mean(),\n",
    "        'GiftCards': df[df['Year'] == year]['GiftCards'].mean()\n",
    "    }\n",
    "\n",
    "    features_df = pd.DataFrame([features])\n",
    "    prediction = rf_best.predict(features_df)\n",
    "    \n",
    "    return prediction[0], features\n",
    "\n",
    "#prediction 2021\n",
    "prediction_2021, features_2021 = predict_year(2021)\n",
    "print(f'\\nPrediction for the year 2021: {prediction_2021}')\n",
    "for feature, value in features_2021.items():\n",
    "    print(f'{feature}: {value}')\n",
    "\n",
    "#prediction 2022\n",
    "prediction_2022, features_2022 = predict_year(2022)\n",
    "print(f'\\nPrediction for the year 2022: {prediction_2022}')\n",
    "for feature, value in features_2022.items():\n",
    "    print(f'{feature}: {value}')\n"
   ]
  },
  {
   "cell_type": "markdown",
   "id": "0d2d0c24",
   "metadata": {},
   "source": [
    "*Nach der Optimierung der Hyperparameter wurden Vorhersagen für das Jahr 2023 erstellt. Dafür wurden Durchschnittswerte für jede Kategorie als Eingabe für das optimierte Modell verwendet.*"
   ]
  },
  {
   "cell_type": "markdown",
   "id": "5d82e961",
   "metadata": {},
   "source": [
    "Aufgrund des kleinen Datensatzes und der begrenzten Varianz sind die Vorhersagen möglicherweise nicht repräsentativ für zukünftige Daten. Um die Vorhersagegenauigkeit zu verbessern, sollte der Datensatz mit künstlich generierten Daten erweitert, die Hyperparameter optimiert und verschiedene Szenarien berücksichtigt werden. Für diese Vorhersage wurden Durchschnittswerte für jede Kategorie als Eingabe für das optimierte Modell verwendet."
   ]
  },
  {
   "cell_type": "code",
   "execution_count": 16,
   "id": "a983b945",
   "metadata": {},
   "outputs": [
    {
     "name": "stdout",
     "output_type": "stream",
     "text": [
      "\n",
      "Vorhersagen für 2023:\n",
      "PercentCelebrating: 52.88\n",
      "Candy: 15.81\n",
      "Flowers: 16.50\n",
      "Jewelry: 43.27\n",
      "GreetingCards: 7.49\n",
      "EveningOut: 30.86\n",
      "Clothing: 20.71\n",
      "GiftCards: 16.00\n",
      "PerPerson: 144.45\n"
     ]
    }
   ],
   "source": [
    "#prediction 2023\n",
    "\n",
    "X = df.drop(['Year', 'PerPerson'], axis=1)\n",
    "y = df['PerPerson']\n",
    "\n",
    "param_grid = {\n",
    "    'n_estimators': [100],\n",
    "    'max_depth': [10],\n",
    "    'min_samples_split': [2],\n",
    "    'min_samples_leaf': [1]\n",
    "}\n",
    "\n",
    "best_models = {}\n",
    "\n",
    "# GridSearch for each label\n",
    "for label in X.columns:\n",
    "    y_label = df[label]\n",
    "    rf = RandomForestRegressor(random_state=42)\n",
    "    grid_search = GridSearchCV(rf, param_grid, cv=3)\n",
    "    grid_search.fit(X, y_label)\n",
    "    best_models[label] = grid_search.best_estimator_\n",
    " \n",
    "# Predict data for 2023\n",
    "X_2023 = pd.DataFrame({\n",
    "    'PercentCelebrating': [53],\n",
    "    'Candy': [15.9],\n",
    "    'Flowers': [16.71],\n",
    "    'Jewelry': [45.75],\n",
    "    'GreetingCards': [7.47],\n",
    "    'EveningOut': [31.35],\n",
    "    'Clothing': [21.46],\n",
    "    'GiftCards': [17.22],\n",
    "})\n",
    "\n",
    "predictions_2023 = {}\n",
    "for label, model in best_models.items():\n",
    "    predictions_2023[label] = model.predict(X_2023)\n",
    "\n",
    "predictions_2023[\"PerPerson\"] = y.mean()  # Assuming the prediction for \"PerPerson\" for 2023 is the average of the existing \"PerPerson\" values\n",
    "\n",
    "print(\"\\nVorhersagen für 2023:\")\n",
    "for key, value in predictions_2023.items():\n",
    "    if key != \"PerPerson\":\n",
    "        print(f\"{key}: {value[0]:.2f}\")\n",
    "    else:\n",
    "        print(f\"{key}: {value:.2f}\")\n",
    "\n"
   ]
  },
  {
   "cell_type": "markdown",
   "id": "05c7afdb",
   "metadata": {},
   "source": [
    "*Durch den Vergleich der Vorhersage für 2023 mit dem tatsächlichen Wert von 2022 wird die Zuverlässigkeit des Modells bewertet. Das Ergebnis zeigt eine nahegelegene Vorhersage, was die Glaubwürdigkeit des Modells stärkt. Bei der Validierung der Vorhersage lag der Fokus vor allem auf dem Label \"PerPerson\", da dies der entscheidende Wert für die Bewertung ist.*"
   ]
  },
  {
   "cell_type": "markdown",
   "id": "40a552e8",
   "metadata": {},
   "source": [
    "Um die Zuverlässigkeit des Modells zu bewerten, wurde die Vorhersage für 2023 mit dem tatsächlichen Wert von 2022 verglichen. Dieser Vergleich zeigt eine nahegelegene Vorhersage, insbesondere für das Label \"PerPerson\", was die Glaubwürdigkeit des Modells stärkt. Trotz der begrenzten Datenmenge und der festgelegten Hyperparameter scheint das Modell in diesem spezifischen Kontext relativ zuverlässige Vorhersagen zu treffen. Diese Erkenntnisse sollten jedoch mit Vorsicht angesehen werden und kritisch bewertet werden."
   ]
  },
  {
   "cell_type": "code",
   "execution_count": 17,
   "id": "261b1e05",
   "metadata": {},
   "outputs": [
    {
     "name": "stdout",
     "output_type": "stream",
     "text": [
      "Prediction for the year 2023 (PerPerson): 174.7046999999999\n",
      "Actual value for 2022 (PerPerson): 175.41\n"
     ]
    }
   ],
   "source": [
    "X = df.drop(['Year', 'PerPerson'], axis=1)\n",
    "y = df['PerPerson']\n",
    "\n",
    "rf = RandomForestRegressor(n_estimators=100, random_state=42)\n",
    "rf.fit(X, y)\n",
    "\n",
    "#compile data for the year 2023\n",
    "y_2023_actual = df['PerPerson'].iloc[-1]  \n",
    "\n",
    "#prediction 2023\n",
    "y_2023_pred = rf.predict(X_2023)\n",
    "\n",
    "print(f\"Prediction for the year 2023 (PerPerson): {y_2023_pred[0]}\")\n",
    "print(f\"Actual value for 2022 (PerPerson): {y_2023_actual}\")\n"
   ]
  },
  {
   "cell_type": "markdown",
   "id": "5b35cfce",
   "metadata": {},
   "source": [
    "*Die Feature Importance wurde analysiert, um die Wichtigkeit der einzelnen Features zu verstehen, welche Faktoren die Ausgaben pro Person am stärksten beeinflussen. Dieses Verständnis kann Händler dabei unterstützen, ihre Marketingstrategien und Produktplatzierung gezielt anzupassen, um den Umsatz zu maximieren.*"
   ]
  },
  {
   "cell_type": "markdown",
   "id": "50697122",
   "metadata": {},
   "source": [
    "Bei der Analyse der Feature Importance kann die Zuverlässigkeit der Ergebnisse beeinträchtigt sein, da Overfitting und Datenverzerrung möglich sind. Der Datensatz kann nicht alle relevanten Faktoren und die gesamte Varianz der Daten erfassen, was zu einer eingeschränkten und möglicherweise nicht repräsentativen Bestimmung der Feature Importance führen kann. Um die Genauigkeit und Relevanz der Ergebnisse zu verbessern, sollten der Datensatz erweitert und verschiedene Validierungstechniken angewendet werden."
   ]
  },
  {
   "cell_type": "code",
   "execution_count": 18,
   "id": "be7d46e0",
   "metadata": {},
   "outputs": [
    {
     "data": {
      "image/png": "[encoded data removed]",
      "text/plain": [
       "<Figure size 1000x600 with 1 Axes>"
      ]
     },
     "metadata": {},
     "output_type": "display_data"
    }
   ],
   "source": [
    "#Feature importance\n",
    "feature_importances = rf.feature_importances_\n",
    "features = X.columns\n",
    "indices = np.argsort(feature_importances)\n",
    "\n",
    "plt.figure(figsize=(10, 6))\n",
    "plt.title('Feature Importance')\n",
    "plt.barh(range(len(indices)), feature_importances[indices], align='center')\n",
    "plt.yticks(range(len(indices)), [features[i] for i in indices])\n",
    "plt.xlabel('Relative Importance')\n",
    "plt.show()"
   ]
  },
  {
   "cell_type": "markdown",
   "id": "f767ea72",
   "metadata": {},
   "source": [
    "## Lineare Regression"
   ]
  },
  {
   "cell_type": "markdown",
   "id": "584feb28",
   "metadata": {},
   "source": [
    "Als weiterer Classifier wurde die lineare Regression getestet, da sie einfacher und weniger anfällig für Overfitting ist, besonders bei einem kleinen Datensatz. Jedoch kann das Vertrauen in die Vorhersage einer linearen Regression eingeschränkt sein, da die Schätzungen der Modellparameter weniger robust und anfälliger für Störungen und Zufallsschwankungen sind"
   ]
  },
  {
   "cell_type": "code",
   "execution_count": 19,
   "id": "5ac49d09",
   "metadata": {},
   "outputs": [
    {
     "name": "stdout",
     "output_type": "stream",
     "text": [
      "Prediction for the year 2021:\n",
      "PercentCelebrating: [46.420248584683435]\n",
      "Candy: [14.102934259552267]\n",
      "Flowers: [14.337367450667905]\n",
      "Jewelry: [35.709918077165526]\n",
      "GreetingCards: [7.4203008182867425]\n",
      "EveningOut: [36.09138564827532]\n",
      "Clothing: [23.502187208954453]\n",
      "GiftCards: [12.418162687504257]\n",
      "PerPerson: [164.76]\n",
      "\n",
      "Prediction for the year 2022:\n",
      "PercentCelebrating: [60.10547901322707]\n",
      "Candy: [17.93571773669972]\n",
      "Flowers: [17.711857607247445]\n",
      "Jewelry: [40.869591486760754]\n",
      "GreetingCards: [11.40418022833487]\n",
      "EveningOut: [28.266426082163008]\n",
      "Clothing: [19.357421926141946]\n",
      "GiftCards: [17.13387059466932]\n",
      "PerPerson: [175.41]\n"
     ]
    }
   ],
   "source": [
    "#linear regression\n",
    "\n",
    "train_data = df[~df['Year'].isin([2021, 2022])]\n",
    "\n",
    "test_data_2021 = df[df['Year'] == 2021]\n",
    "\n",
    "test_data_2022 = df[df['Year'] == 2022]\n",
    "\n",
    "features = df.columns.drop(['Year', 'PerPerson'])\n",
    "\n",
    "predictions_2021 = {}\n",
    "predictions_2022 = {}\n",
    "\n",
    "for feature in features:\n",
    "    X_train = train_data.drop(['Year', feature], axis=1)\n",
    "    y_train = train_data[feature]\n",
    "    \n",
    "    model = LinearRegression()\n",
    "    model.fit(X_train, y_train)\n",
    "    \n",
    "    #prediction 2021\n",
    "    X_test_2021 = test_data_2021.drop(['Year', feature], axis=1)\n",
    "    predictions_2021[feature] = model.predict(X_test_2021).tolist()\n",
    "    \n",
    "    #prediction 2022\n",
    "    X_test_2022 = test_data_2022.drop(['Year', feature], axis=1)\n",
    "    predictions_2022[feature] = model.predict(X_test_2022).tolist()\n",
    "\n",
    "#linear regression fpr the label \"PerPerson\"\n",
    "X_train = train_data.drop(['Year'], axis=1)\n",
    "y_train = train_data['PerPerson']\n",
    "\n",
    "model_per_person = LinearRegression()\n",
    "model_per_person.fit(X_train, y_train)\n",
    "\n",
    "#Forecast for 2021 and 2022 for 'PerPerson'\n",
    "X_test_2021 = test_data_2021.drop(['Year'], axis=1)\n",
    "predictions_2021['PerPerson'] = model_per_person.predict(X_test_2021).tolist()\n",
    "\n",
    "X_test_2022 = test_data_2022.drop(['Year'], axis=1)\n",
    "predictions_2022['PerPerson'] = model_per_person.predict(X_test_2022).tolist()\n",
    "\n",
    "print(\"Prediction for the year 2021:\")\n",
    "for feature, pred in predictions_2021.items():\n",
    "    print(f\"{feature}: {pred}\")\n",
    "\n",
    "print(\"\\nPrediction for the year 2022:\")\n",
    "for feature, pred in predictions_2022.items():\n",
    "    print(f\"{feature}: {pred}\")\n",
    "\n",
    "\n"
   ]
  },
  {
   "cell_type": "markdown",
   "id": "766c46bc",
   "metadata": {},
   "source": [
    "Die Vorhersage für das Label ``PerPerson``im Jahr 2023 beträgt hierbei 173,97$, was im ersten Moment ein realistischer Wert zu sein scheint. Dies sollte jedoch vorsichtigt betrachtet werden."
   ]
  },
  {
   "cell_type": "code",
   "execution_count": 20,
   "id": "49b7b4da",
   "metadata": {},
   "outputs": [
    {
     "name": "stdout",
     "output_type": "stream",
     "text": [
      "Prediction for the year 2023 (PerPerson): 173.97412691655498\n"
     ]
    }
   ],
   "source": [
    "#prediction \"PerPerson\" for 2023\n",
    "\n",
    "X = df.drop(['Year', 'PerPerson'], axis=1)\n",
    "y = df['PerPerson']\n",
    "\n",
    "# Lineare Regression Modell erstellen\n",
    "model = LinearRegression()\n",
    "model.fit(X, y)\n",
    "\n",
    "# Vorhersage für 2023\n",
    "X_2023 = df.drop(['Year', 'PerPerson'], axis=1).tail(1)  # Daten für 2022\n",
    "predictions_2023 = model.predict(X_2023)\n",
    "\n",
    "print(f'Prediction for the year 2023 (PerPerson): {predictions_2023[0]}')"
   ]
  },
  {
   "cell_type": "markdown",
   "id": "ed543683",
   "metadata": {},
   "source": [
    "Die Vorhersage gibt einen groben Überblick über das erwartete Konsumverhalten für 2023 auf Basis der bisherigen Trends und Muster in den Daten. Jedoch kann die Vorhersage ungenau und nicht repräsentativ für zukünftige Entwicklungen sein, da sie auf einem kleinen und begrenzten Datensatz basiert. Dies ist als eine erste Schätzung und grobe Indikation des erwarteten Konsumverhaltens zu sehen."
   ]
  },
  {
   "cell_type": "code",
   "execution_count": 21,
   "id": "8835555b",
   "metadata": {},
   "outputs": [
    {
     "name": "stdout",
     "output_type": "stream",
     "text": [
      "PercentCelebrating: 53.00000000000003\n",
      "PerPerson: 175.41\n",
      "Candy: 15.899999999999997\n",
      "Flowers: 16.709999999999997\n",
      "Jewelry: 45.75000000000007\n",
      "GreetingCards: 7.470000000000004\n",
      "EveningOut: 31.350000000000076\n",
      "Clothing: 21.459999999999976\n",
      "GiftCards: 17.219999999999978\n"
     ]
    }
   ],
   "source": [
    "#prediction consumption behaviour 2023 with linear regression\n",
    "\n",
    "X = df.drop(['Year'], axis=1)\n",
    "y = df.drop(['Year'], axis=1)\n",
    "\n",
    "X = X.iloc[:-1]\n",
    "y = y.iloc[:-1]\n",
    "\n",
    "model = LinearRegression()\n",
    "model.fit(X, y)\n",
    "\n",
    "X_2023 = df.drop(['Year'], axis=1).tail(1)  # Daten für 2022\n",
    "predictions_2023 = model.predict(X_2023)\n",
    "\n",
    "label_names = X.columns\n",
    "\n",
    "for label, prediction in zip(label_names, predictions_2023[0]):\n",
    "    print(f'{label}: {prediction}')"
   ]
  },
  {
   "cell_type": "markdown",
   "id": "0927865c",
   "metadata": {},
   "source": [
    "*Das Modell erzielt einen durchschnittlichen R²-Wert von 91%, was normalerweise auf eine sehr gute Vorhersagegenauigkeit hinweist. Dies übertrifft sogar die Leistung des zuvor verwendeten Random Forest Regressors. Trotzdessen besteht Verbesserungspotenzial durch Hyperparameter-Tuning. Als nächster Schritt wird ein weiterer Classifier getestet.*"
   ]
  },
  {
   "cell_type": "markdown",
   "id": "5f65a03b",
   "metadata": {},
   "source": [
    "Trotz eines beeindruckenden R²-Werts von 91% bei der linearen Regression sollte die Vorhersagegenauigkeit mit Vorsicht interpretiert werden, da der hohe Wert durch die spezifischen Eigenschaften und Begrenzungen des kleinen Datensatzes beeinflusst sein kann. Ein hoher R²-Wert kann bei einem kleinen Datensatz leicht erzielt werden und muss nicht unbedingt eine gute Generalisierungsfähigkeit des Modells auf neue, unbekannte Daten bedeuten. Es besteht Verbesserungspotenzial durch Hyperparameter-Tuning und die Berücksichtigung weiterer Modelle und Validierungstechniken."
   ]
  },
  {
   "cell_type": "code",
   "execution_count": 22,
   "id": "327aeeec",
   "metadata": {},
   "outputs": [
    {
     "name": "stdout",
     "output_type": "stream",
     "text": [
      "Cross-validated R²: 0.91\n"
     ]
    }
   ],
   "source": [
    "#cross-validation R²-score\n",
    "scores = cross_val_score(model, X, y, cv=5)\n",
    "print(f'Cross-validated R²: {scores.mean():.2f}')"
   ]
  },
  {
   "cell_type": "markdown",
   "id": "d620f3fc",
   "metadata": {},
   "source": [
    "## XGBoost Classifier"
   ]
  },
  {
   "cell_type": "code",
   "execution_count": 23,
   "id": "e67083dd",
   "metadata": {},
   "outputs": [
    {
     "name": "stdout",
     "output_type": "stream",
     "text": [
      "Requirement already satisfied: xgboost in /Users/olgagolban/Desktop/uni/4. Semester/Data Exploration/dataexploproject/dataexploproject/lib/python3.10/site-packages (2.0.3)\n",
      "Requirement already satisfied: numpy in /Users/olgagolban/Desktop/uni/4. Semester/Data Exploration/dataexploproject/dataexploproject/lib/python3.10/site-packages (from xgboost) (1.26.4)\n",
      "Requirement already satisfied: scipy in /Users/olgagolban/Desktop/uni/4. Semester/Data Exploration/dataexploproject/dataexploproject/lib/python3.10/site-packages (from xgboost) (1.12.0)\n"
     ]
    }
   ],
   "source": [
    "! pip install xgboost"
   ]
  },
  {
   "cell_type": "markdown",
   "id": "33aa1767",
   "metadata": {},
   "source": [
    "*Der XGBoost zeichnet sich durch hohe Leistung und Genauigkeit aus, insbesondere bei komplexen, nicht-linearen Datenbeziehungen. Er nutzt den Gradient Boosting Decision Tree Algorithmus und bietet Mechanismen zur Regularisierung, um Überanpassungen zu vermeiden. Der Algorithmus ist flexibel für Regressions- und Klassifikationsprobleme einsetzbar und ermöglicht die Ermittlung der Feature-Bedeutung.*"
   ]
  },
  {
   "cell_type": "markdown",
   "id": "44ef3738",
   "metadata": {},
   "source": [
    "XGBoost ist ideal für kleine Datensätze, da er robust gegen Overfitting ist und komplexe Beziehungen in den Daten effizient modellieren kann. Der Algorithmus verwendet Entscheidungsbäume mit Regularisierungstechniken, um die Generalisierungsfähigkeit zu verbessern und eine hohe Vorhersagegenauigkeit auch bei begrenzten Datenmengen zu erzielen."
   ]
  },
  {
   "cell_type": "code",
   "execution_count": 24,
   "id": "57ad132b",
   "metadata": {},
   "outputs": [
    {
     "name": "stdout",
     "output_type": "stream",
     "text": [
      "Prediction for 2021:\n",
      "PercentCelebrating: [53.7770881652832]\n",
      "Candy: [14.119636535644531]\n",
      "Flowers: [15.02519416809082]\n",
      "Jewelry: [32.77590560913086]\n",
      "GreetingCards: [8.131793975830078]\n",
      "EveningOut: [27.719974517822266]\n",
      "Clothing: [16.07979965209961]\n",
      "GiftCards: [11.083127975463867]\n",
      "PerPerson: [161.95989990234375]\n",
      "\n",
      "Prediction for 2022:\n",
      "PercentCelebrating: [54.55305099487305]\n",
      "Candy: [14.119930267333984]\n",
      "Flowers: [15.530871391296387]\n",
      "Jewelry: [35.98004913330078]\n",
      "GreetingCards: [7.946704864501953]\n",
      "EveningOut: [27.720102310180664]\n",
      "Clothing: [16.080005645751953]\n",
      "GiftCards: [11.424337387084961]\n",
      "PerPerson: [161.95989990234375]\n"
     ]
    }
   ],
   "source": [
    "#prediction 2021 and 2022 with XGBoost classifier\n",
    "\n",
    "train_data = df[~df['Year'].isin([2021, 2022])]\n",
    "\n",
    "test_data_2021 = df[df['Year'] == 2021]\n",
    "\n",
    "test_data_2022 = df[df['Year'] == 2022]\n",
    "\n",
    "features = df.columns.drop(['Year', 'PerPerson'])\n",
    "\n",
    "# XGBoost-Classifier for each label\n",
    "predictions_2021 = {}\n",
    "predictions_2022 = {}\n",
    "\n",
    "for feature in features:\n",
    "    X_train = train_data.drop(['Year', feature], axis=1)\n",
    "    y_train = train_data[feature]\n",
    "    \n",
    "    # XGBoost model\n",
    "    model = xgb.XGBRegressor(objective ='reg:squarederror')\n",
    "    model.fit(X_train, y_train)\n",
    "    \n",
    "    X_test_2021 = test_data_2021.drop(['Year', feature], axis=1)\n",
    "    predictions_2021[feature] = model.predict(X_test_2021).tolist()\n",
    "\n",
    "    X_test_2022 = test_data_2022.drop(['Year', feature], axis=1)\n",
    "    predictions_2022[feature] = model.predict(X_test_2022).tolist()\n",
    "\n",
    "# XGBoost classifier for label \"PerPerson\"\n",
    "X_train = train_data.drop(['Year'], axis=1)\n",
    "y_train = train_data['PerPerson']\n",
    "\n",
    "model_per_person = xgb.XGBRegressor(objective ='reg:squarederror')\n",
    "model_per_person.fit(X_train, y_train)\n",
    "\n",
    "# Forecast for 2021 and 2022 for 'PerPerson'\n",
    "X_test_2021 = test_data_2021.drop(['Year'], axis=1)\n",
    "predictions_2021['PerPerson'] = model_per_person.predict(X_test_2021).tolist()\n",
    "\n",
    "X_test_2022 = test_data_2022.drop(['Year'], axis=1)\n",
    "predictions_2022['PerPerson'] = model_per_person.predict(X_test_2022).tolist()\n",
    "\n",
    "print(\"Prediction for 2021:\")\n",
    "for feature, pred in predictions_2021.items():\n",
    "    print(f\"{feature}: {pred}\")\n",
    "\n",
    "print(\"\\nPrediction for 2022:\")\n",
    "for feature, pred in predictions_2022.items():\n",
    "    print(f\"{feature}: {pred}\")\n",
    "\n"
   ]
  },
  {
   "cell_type": "markdown",
   "id": "21831303",
   "metadata": {},
   "source": [
    "Ein hoher R²-Wert deutet darauf hin, dass das Modell die Daten gut anpasst, jedoch kann dieser Wert bei einem kleinen Datensatz leicht erzielt werden und muss nicht unbedingt eine gute Generalisierungsfähigkeit auf neue Daten bedeuten. Zudem wurdeaufgrund der begrenzten Daten keine separate Validierungsgruppe verwendet, um die Vorhersagegenauigkeit zu überprüfen."
   ]
  },
  {
   "cell_type": "code",
   "execution_count": 25,
   "id": "bb1fc181",
   "metadata": {},
   "outputs": [
    {
     "name": "stdout",
     "output_type": "stream",
     "text": [
      "Metrics für 2021:\n",
      "  MAE: 2.5841769981384277\n",
      "  MSE: 10.75180787849812\n",
      "  R^2: 0.9333046257809142\n",
      "\n",
      "Metrics für 2022:\n",
      "  MAE: 3.695557465553284\n",
      "  MSE: 22.295043625035948\n",
      "  R^2: 0.8996265581775607\n"
     ]
    }
   ],
   "source": [
    "#metrics for 2021 and 2022\n",
    "\n",
    "train_data = df[~df['Year'].isin([2021, 2022])]\n",
    "\n",
    "test_data_2021 = df[df['Year'] == 2021]\n",
    "\n",
    "test_data_2022 = df[df['Year'] == 2022]\n",
    "\n",
    "features = df.columns.drop(['Year', 'PerPerson'])\n",
    "\n",
    "predictions_2021 = {}\n",
    "predictions_2022 = {}\n",
    "\n",
    "for feature in features:\n",
    "    X_train = train_data.drop(['Year', feature], axis=1)\n",
    "    y_train = train_data[feature]\n",
    "    \n",
    "    model = xgb.XGBRegressor(objective ='reg:squarederror')\n",
    "    model.fit(X_train, y_train)\n",
    "    \n",
    "    X_test_2021 = test_data_2021.drop(['Year', feature], axis=1)\n",
    "    predictions_2021[feature] = model.predict(X_test_2021)\n",
    "    \n",
    "    X_test_2022 = test_data_2022.drop(['Year', feature], axis=1)\n",
    "    predictions_2022[feature] = model.predict(X_test_2022)\n",
    "\n",
    "#function to calculate the metrics\n",
    "def calculate_overall_metrics(true_values, predictions):\n",
    "    mae = mean_absolute_error(true_values, predictions)\n",
    "    mse = mean_squared_error(true_values, predictions)\n",
    "    r2 = r2_score(true_values, predictions)\n",
    "    return mae, mse, r2\n",
    "\n",
    "true_values_2021 = test_data_2021[features].values.flatten()\n",
    "true_values_2022 = test_data_2022[features].values.flatten()\n",
    "\n",
    "#predictions for 2021 and 2022\n",
    "all_predictions_2021 = [value for sublist in predictions_2021.values() for value in sublist]\n",
    "all_predictions_2022 = [value for sublist in predictions_2022.values() for value in sublist]\n",
    "\n",
    "#metrics for 2021\n",
    "mae_2021, mse_2021, r2_2021 = calculate_overall_metrics(true_values_2021, all_predictions_2021)\n",
    "print(f\"Metrics für 2021:\")\n",
    "print(f\"  MAE: {mae_2021}\")\n",
    "print(f\"  MSE: {mse_2021}\")\n",
    "print(f\"  R^2: {r2_2021}\")\n",
    "\n",
    "#metrics for 2022\n",
    "mae_2022, mse_2022, r2_2022 = calculate_overall_metrics(true_values_2022, all_predictions_2022)\n",
    "print(f\"\\nMetrics für 2022:\")\n",
    "print(f\"  MAE: {mae_2022}\")\n",
    "print(f\"  MSE: {mse_2022}\")\n",
    "print(f\"  R^2: {r2_2022}\")"
   ]
  },
  {
   "cell_type": "markdown",
   "id": "f0b96a97",
   "metadata": {},
   "source": [
    "Nach dem Vergleich der verschiedenen Classifier zeigte der XGBoost-Algorithmus bereits vor dem Tuning die besten Metrikergebisse. Die hohen R²-Scores von 93,3% für 2021 und 89,9% für 2022 untermauern die Überlegenheit. Aufgrund dieser Ergebnisse wird der XGBoost-Algorithmus als bevorzugtes Modell für zukünftige Analysen verwendet."
   ]
  },
  {
   "cell_type": "markdown",
   "id": "cee31d41",
   "metadata": {},
   "source": [
    "### Vorhersage 2023 mithilfe des XGBoost Classifier"
   ]
  },
  {
   "cell_type": "markdown",
   "id": "22058af8",
   "metadata": {},
   "source": [
    "Durch die Vorhersage wird der erste Eindruck des Overfittings bestätigt, da ein Wert von 103% für \"PercentCelebrating\" im Jahr 2023 darauf hin, dass das Modell die Trainingsdaten zu stark anpasst und daher auf neuen, unbekannten Daten eine schlechte Vorhersagegenauigkeit aufweist"
   ]
  },
  {
   "cell_type": "code",
   "execution_count": 26,
   "id": "9f662062",
   "metadata": {},
   "outputs": [
    {
     "name": "stdout",
     "output_type": "stream",
     "text": [
      "PercentCelebrating: 103.00\n",
      "PerPerson: 116.21\n",
      "Candy: 126.03\n",
      "Flowers: 130.97\n",
      "Jewelry: 133.91\n",
      "GreetingCards: 142.31\n",
      "EveningOut: 146.84\n",
      "Clothing: 136.57\n",
      "GiftCards: 143.56\n"
     ]
    }
   ],
   "source": [
    "#predicition for the year 2023 with train data\n",
    "\n",
    "train_data = df[df['Year'] <= 2020].drop(['Year'], axis=1)\n",
    "train_labels = df[df['Year'] <= 2020]['PerPerson']\n",
    "\n",
    "model = xgb.XGBRegressor(objective ='reg:squarederror', seed=42)\n",
    "model.fit(train_data, train_labels)\n",
    "\n",
    "predictions_train = model.predict(train_data)\n",
    "\n",
    "labels = train_data.columns\n",
    "\n",
    "for label, prediction in zip(labels, predictions_train):\n",
    "    print(f\"{label}: {prediction:.2f}\")"
   ]
  },
  {
   "cell_type": "markdown",
   "id": "1d625778",
   "metadata": {},
   "source": [
    "Hier folgend wird ein angepasster R²-Wert berechnet, da keine genauen Daten für den Abgleich vorhanden sind. Der angepasste R²-Wert berücksichtigt sowohl die Anzahl der Features als auch die Beobachtungen, was ihn zu einer präziseren Metrik macht. Es wird ein angepasster R²-Wert von 1.0 berechnet, was bedeutet, dass etwa 100% der Varianz in den 'PerPerson'-Ausgaben durch die im Modell enthaltenen unabhängigen Variablen erklärt werden können. Dies ist normalerweise eher unwahrscheinlich, sodass das Overfitting bestätigt wird."
   ]
  },
  {
   "cell_type": "code",
   "execution_count": 27,
   "id": "0e679b58",
   "metadata": {},
   "outputs": [
    {
     "name": "stdout",
     "output_type": "stream",
     "text": [
      "Adjusted R² score for 2023: 1.0\n"
     ]
    }
   ],
   "source": [
    "# Calculation of the adjusted R² score\n",
    "\n",
    "predictions_2023_df = pd.DataFrame(predictions_2023)\n",
    "\n",
    "#number of predictions\n",
    "n = len(predictions_2023_df)\n",
    "\n",
    "# Number of independent variables (number of features)\n",
    "p = predictions_2023_df.shape[1]\n",
    "\n",
    "#assumed R² score based on scores for 2021 and 2022\n",
    "r2 = 0.9\n",
    "\n",
    "adjusted_r2 = 1 - ((1 - r2) * ((n - 1) / (n - p - 1)))\n",
    "\n",
    "print(f\"Adjusted R² score for 2023: {adjusted_r2}\")"
   ]
  },
  {
   "cell_type": "markdown",
   "id": "3352565b",
   "metadata": {},
   "source": [
    "Die Lernkurve gibt Aufschluss über die Modellleistung in Abhängigkeit von den Trainingsdaten und hilft Overfitting zu erkennen. Ein hoher Trainingsscore deutet auf gute Anpassung an die Daten hin. Der Cross-Validation Score bewertet die Modellleistung auf nicht trainierten Daten. Der Test Cross-Validation Score ist entscheidend für die Bewertung der Vorhersagefähigkeiten auf neuen Daten und zeigt hier einen MSE von mindestens 350, was nicht repräsentativ ist."
   ]
  },
  {
   "cell_type": "code",
   "execution_count": 48,
   "id": "1460a589",
   "metadata": {},
   "outputs": [
    {
     "data": {
      "image/png": "[encoded data removed]",
      "text/plain": [
       "<Figure size 1000x600 with 1 Axes>"
      ]
     },
     "metadata": {},
     "output_type": "display_data"
    }
   ],
   "source": [
    "#XGBoost learning curve\n",
    "\n",
    "X = df.drop(['PerPerson', 'Year'], axis=1)\n",
    "y = df['PerPerson']\n",
    "\n",
    "model = XGBRegressor(objective ='reg:squarederror', seed=42)\n",
    "\n",
    "#learning curve for train data\n",
    "train_sizes, train_scores, test_scores = learning_curve(\n",
    "    model, X, y, cv=5, scoring='neg_mean_squared_error', \n",
    "    train_sizes=np.linspace(0.1, 1.0, 10), shuffle=True, return_times=False)\n",
    "\n",
    "#means and standard deviations\n",
    "train_mean = -np.mean(train_scores, axis=1)\n",
    "train_std = np.std(train_scores, axis=1)\n",
    "test_mean = -np.mean(test_scores, axis=1)\n",
    "test_std = np.std(test_scores, axis=1)\n",
    "\n",
    "#learning curve for test data\n",
    "test_train_sizes, test_train_scores, test_test_scores = learning_curve(\n",
    "    model, X, y, cv=8, scoring='neg_mean_squared_error', \n",
    "    train_sizes=np.linspace(0.1, 1.0, 10), shuffle=True, return_times=False)\n",
    "\n",
    "#means and standard deviations\n",
    "test_train_mean = -np.mean(test_train_scores, axis=1)\n",
    "test_train_std = np.std(test_train_scores, axis=1)\n",
    "test_test_mean = -np.mean(test_test_scores, axis=1)\n",
    "test_test_std = np.std(test_test_scores, axis=1)\n",
    "\n",
    "plt.figure(figsize=(10,6))\n",
    "plt.plot(train_sizes, test_mean, label='Cross-validation score', color='red')\n",
    "plt.plot(test_train_sizes, test_train_mean, label='Test Training score', color='green')\n",
    "plt.plot(test_train_sizes, test_test_mean, label='Test Cross-validation score', color='orange')\n",
    "\n",
    "\n",
    "plt.title('XGBoost Learning Curve')\n",
    "plt.xlabel('Number of Training Samples')\n",
    "plt.ylabel('MSE')\n",
    "plt.ylim(-100, 2200)\n",
    "plt.legend(loc='best')\n",
    "plt.grid()\n",
    "plt.show()"
   ]
  },
  {
   "cell_type": "markdown",
   "id": "bbdde14a",
   "metadata": {},
   "source": [
    "Die `GridSearchCV` Funktion wird verwendet, um die Hyperparameter eines XGBoost-Modells automatisch zu optimieren. Durch systematisches Durchlaufen aller definierten Hyperparameter-Kombinationen, wie ``gamma``, ``alpha`` und ``reg_lambda``, wird die Kombination gefunden, die die beste Leistung auf den Trainingsdaten erzielt. Dieser Prozess führt zu einer verbesserten Modellleistung, da die Hyperparameter optimal an die Daten angepasst werden, was die Generalisierung auf neue Daten fördert."
   ]
  },
  {
   "cell_type": "code",
   "execution_count": 29,
   "id": "a971faef",
   "metadata": {},
   "outputs": [
    {
     "name": "stdout",
     "output_type": "stream",
     "text": [
      "Best parameter: {'alpha': 1, 'gamma': 0, 'reg_lambda': 0.7}\n"
     ]
    }
   ],
   "source": [
    "#GridSearch XGBoost\n",
    "\n",
    "model = xgb.XGBRegressor(objective='reg:squarederror', seed=42)\n",
    "\n",
    "param_grid = {\n",
    "    'gamma': [0, 0.05, 0.1, 0.2, 0.3, 0.4, 0.5, 0.6, 0.7, 0.8, 0.9, 1],\n",
    "    'alpha': [0, 0.05, 0.1, 0.2, 0.3, 0.4, 0.5, 0.6, 0.7, 0.8, 0.9, 1],\n",
    "    'reg_lambda': [0, 0.05, 0.1, 0.2, 0.3, 0.4, 0.5, 0.6, 0.7, 0.8, 0.9, 1]\n",
    "}\n",
    "\n",
    "grid_search = GridSearchCV(estimator=model, param_grid=param_grid, cv=9, scoring='neg_mean_squared_error', n_jobs=-1)\n",
    "\n",
    "grid_search.fit(train_data, train_labels)\n",
    "\n",
    "print(\"Best parameter:\", grid_search.best_params_)"
   ]
  },
  {
   "cell_type": "markdown",
   "id": "ff01cda9",
   "metadata": {},
   "source": [
    "Overfitting wird typischerweise durch eine niedrige Trainings-MSE, aber eine hohe Cross-Validation-MSE gezeigt. "
   ]
  },
  {
   "cell_type": "code",
   "execution_count": 30,
   "id": "f3b56e5a",
   "metadata": {},
   "outputs": [
    {
     "data": {
      "image/png": "[encoded data removed]",
      "text/plain": [
       "<Figure size 640x480 with 1 Axes>"
      ]
     },
     "metadata": {},
     "output_type": "display_data"
    },
    {
     "name": "stdout",
     "output_type": "stream",
     "text": [
      "Training MSE for the last training sample: 0.22269608146296138\n",
      "Cross-Validation MSE for the last training sample: 408.18774267891627\n",
      "Adjusted R² score for 2023: 1.0\n"
     ]
    }
   ],
   "source": [
    "#XGBoost trainwith regularisation parameters\n",
    "\n",
    "train_data = df[df['Year'] <= 2020].drop(['Year'], axis=1)\n",
    "train_labels = df[df['Year'] <= 2020]['PerPerson']\n",
    "\n",
    "model = xgb.XGBRegressor(objective='reg:squarederror', \n",
    "                         alpha=1,\n",
    "                         gamma=0,            \n",
    "                         reg_lambda=0.7)  \n",
    "model.fit(train_data, train_labels)\n",
    "\n",
    "train_sizes, train_scores, valid_scores = learning_curve(model, train_data, train_labels, \n",
    "                                                          train_sizes=np.linspace(0.1, 1.0, 5), \n",
    "                                                          cv=9, scoring='neg_mean_squared_error')\n",
    "\n",
    "plt.figure()\n",
    "plt.plot(train_sizes, -train_scores.mean(axis=1), 'o-', label='Training MSE')\n",
    "plt.plot(train_sizes, -valid_scores.mean(axis=1), 'o-', label='Cross-validation MSE')\n",
    "plt.xlabel('Training examples')\n",
    "plt.ylabel('MSE')\n",
    "plt.title('Learning Curve')\n",
    "plt.legend(loc='best')\n",
    "plt.grid()\n",
    "plt.ylim(-100, 2200)\n",
    "plt.show()\n",
    "\n",
    "#calculation MSE\n",
    "train_mse = -train_scores.mean(axis=1)[-1]\n",
    "valid_mse = -valid_scores.mean(axis=1)[-1]\n",
    "\n",
    "print(f\"Training MSE for the last training sample: {train_mse}\")\n",
    "print(f\"Cross-Validation MSE for the last training sample: {valid_mse}\")\n",
    "\n",
    "predictions_2023 = {\n",
    "    'PercentCelebrating': [103.0],\n",
    "    'PerPerson': [116.21],\n",
    "    'Jewelry': [133.91],\n",
    "    'GreetingCards': [142.31],\n",
    "    'GiftCards': [143.56],\n",
    "    'Flowers': [130.97],\n",
    "    'EveningOut': [146.84],\n",
    "    'Clothing': [136.57],\n",
    "    'Candy': [126.03]\n",
    "}\n",
    "\n",
    "predictions_2023_df = pd.DataFrame(predictions_2023)\n",
    "\n",
    "n = len(predictions_2023_df)\n",
    "\n",
    "p = predictions_2023_df.shape[1]\n",
    "\n",
    "r2 = model.score(train_data, train_labels)\n",
    "adjusted_r2 = 1 - ((1 - r2) * ((n - 1) / (n - p - 1)))\n",
    "\n",
    "print(f\"Adjusted R² score for 2023: {adjusted_r2}\")\n"
   ]
  },
  {
   "cell_type": "markdown",
   "id": "00b44050",
   "metadata": {},
   "source": [
    "Zur besseren Interpretation des Modells wurden mehrere Metriken ausgegeben. Das Modell passt sich den Trainingsdaten zu sehr an, wie durch den niedrigen Trainings-MSE bestätigt wird. Jedoch ist der hohe MSE bei der Cross-Validation auffällig, was auf ein Overfitting des Modells hindeutet. Der deutliche Unterschied zwischen Trainings- und Cross-Validation MSE, sowie dem Adjusted R² score von 1.0  bestätigen diese Vermutung des Overfittings."
   ]
  },
  {
   "cell_type": "markdown",
   "id": "92167e0e",
   "metadata": {},
   "source": [
    "### Ergebnisdarstellung"
   ]
  },
  {
   "cell_type": "markdown",
   "id": "772876a1",
   "metadata": {},
   "source": [
    "*#### Zusammenfassung des Machine Learning-Projekts zur Vorhersage des Kaufverhaltens am Valentinstag*\n",
    "\n",
    "*In diesem Projekt wurden verschiedene Regressionsmodelle evaluiert, um das beste Modell für die Vorhersage des Kaufverhaltens am Valentinstag zu finden. Der XGBoost-Algorithmus zeigte die beste Leistung mit dem höchsten R² auf den Testdaten von 2021 und 2022 vor dem Hyperparameter-Tuning. Der Random Forest Regressor folgte auf dem zweiten Platz, gefolgt von der linearen Regression.\n",
    "Trotz der hohen Leistung des XGBoost-Modells gibt es Raum für Verbesserungen, insbesondere gegen das Overfitting. Der XGBoost bietet ein großes Potenzial für gezielte Marketingstrategien, um Umsätze am Valentinstag zu maximieren.*"
   ]
  },
  {
   "cell_type": "markdown",
   "id": "71caefc2",
   "metadata": {},
   "source": [
    "#### Zusammenfassung des Machine Learning-Projekts zur Vorhersage des Kaufverhaltens am Valentinstag\n",
    "\n",
    "In diesem Projekt hat der XGBoost-Algorithmus aufgrund seiner hohen Leistung auf den Testdaten von 2021 und 2022 die beste Vorhersage für das Kaufverhalten am Valentinstag gezeigt. Trotzdem war aufgrund der geringen Datenmenge und der Modellkomplexität Overfitting zu erwarten, was durch die Lernkurve und den Adjusted R²-Wert bestätigt wurde. Um das Overfitting zu reduzieren, ist die Verwendung von künstlich generierten Daten zur Datensatzerweiterung und die Anpassung der Modellkomplexität erforderlich. Trotz der Herausforderungen bietet der XGBoost-Algorithmus großes Potenzial zur Entwicklung gezielter Marketingstrategien zur Maximierung der Umsätze am Valentinstag."
   ]
  },
  {
   "cell_type": "markdown",
   "id": "b075f46b",
   "metadata": {},
   "source": [
    "### Quellen\n",
    "https://www.kaggle.com/datasets/joebeachcapital/valentines-day-consumer-data"
   ]
  },
  {
   "cell_type": "code",
   "execution_count": 31,
   "id": "317b34c2",
   "metadata": {},
   "outputs": [
    {
     "name": "stdout",
     "output_type": "stream",
     "text": [
      "1413\n"
     ]
    }
   ],
   "source": [
    "#calculation of the word count in the documentation\n",
    "this_notebook= 'projectml.ipynb'\n",
    "\n",
    "import json\n",
    "\n",
    "with open(this_notebook) as json_file:\n",
    "    data = json.load(json_file)\n",
    "\n",
    "wordCount = 0\n",
    "for each in data['cells']:\n",
    "    cellType = each['cell_type']\n",
    "    if cellType == \"markdown\":\n",
    "        content = each['source']\n",
    "        for line in content:\n",
    "            temp = [word for word in line.split() if \"#\" not in word] # we might need to filter for more markdown keywords here\n",
    "            wordCount = wordCount + len(temp)\n",
    "            \n",
    "print(wordCount)"
   ]
  }
 ],
 "metadata": {
  "kernelspec": {
   "display_name": "Python 3 (ipykernel)",
   "language": "python",
   "name": "python3"
  },
  "language_info": {
   "codemirror_mode": {
    "name": "ipython",
    "version": 3
   },
   "file_extension": ".py",
   "mimetype": "text/x-python",
   "name": "python",
   "nbconvert_exporter": "python",
   "pygments_lexer": "ipython3",
   "version": "3.10.9"
  }
 },
 "nbformat": 4,
 "nbformat_minor": 5
}
